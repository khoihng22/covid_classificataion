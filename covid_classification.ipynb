{
  "cells": [
    {
      "cell_type": "code",
      "execution_count": 1,
      "metadata": {
        "id": "TLVeX4JFVq9F"
      },
      "outputs": [],
      "source": [
        "import tensorflow as tf\n",
        "from tensorflow import keras\n",
        "from tensorflow.keras import layers\n",
        "from keras import Sequential,Model\n",
        "from keras.layers import concatenate,Activation, Dense, Dropout, Conv2D, Flatten, MaxPooling2D, GlobalMaxPooling2D, GlobalAveragePooling1D,\\\n",
        "     AveragePooling2D, Input, Add, BatchNormalization, Reshape, TimeDistributed, Conv1D, LSTM, Permute, Concatenate\n",
        "from keras.preprocessing.image import ImageDataGenerator\n",
        "from keras.models import model_from_json\n",
        "from sklearn.metrics import roc_curve\n",
        "from keras.utils import np_utils\n",
        "from tqdm import tqdm\n",
        "import pandas as pd\n",
        "import numpy as np\n",
        "import librosa \n",
        "import librosa.display\n",
        "import pylab\n",
        "import cv2\n",
        "import os"
      ]
    },
    {
      "cell_type": "markdown",
      "metadata": {
        "id": "SYfja4naeas9"
      },
      "source": [
        "---\n",
        "# 1-Prepare Data\n",
        "---\n",
        "\n"
      ]
    },
    {
      "cell_type": "code",
      "execution_count": 3,
      "metadata": {
        "colab": {
          "base_uri": "https://localhost:8080/"
        },
        "id": "DQjUs7MScCyX",
        "outputId": "6e4cfd74-2135-47a4-b360-993663951007"
      },
      "outputs": [],
      "source": [
        "rt_dir = 'E:\\\\Coswara-Data-master'\n",
        "import glob\n",
        "for each in os.listdir(rt_dir):\n",
        "    if os.path.isdir(os.path.join(rt_dir,each)) and each != '.git':\n",
        "        print(os.path.join(rt_dir, each,''))\n",
        "        !type {os.path.join(rt_dir, each,'')}*.tar.gz.* > {os.path.join(rt_dir, each,'')}combined_file.tar.gz\n",
        "        !C://Users/Admin/Downloads/WinRAR/unrar x {os.path.join(rt_dir, each,'')}combined_file.tar.gz -C {rt_dir}\n",
        "subset = glob.glob('./Coswara-Data/*/*.tar.gz.*') + glob.glob('./Coswara-Data/*/combined_data.tar.gz')\n",
        "[os.remove(x) for x in subset];"
      ]
    },
    {
      "cell_type": "code",
      "execution_count": 5,
      "metadata": {
        "colab": {
          "base_uri": "https://localhost:8080/",
          "height": 214
        },
        "id": "wsLmzEc9l65j",
        "outputId": "d5327fa2-6e18-47c7-c1a1-b191aaa759c7"
      },
      "outputs": [
        {
          "name": "stderr",
          "output_type": "stream",
          "text": [
            "100%|██████████| 2232/2232 [00:16<00:00, 137.81it/s]\n"
          ]
        },
        {
          "data": {
            "text/html": [
              "<div>\n",
              "<style scoped>\n",
              "    .dataframe tbody tr th:only-of-type {\n",
              "        vertical-align: middle;\n",
              "    }\n",
              "\n",
              "    .dataframe tbody tr th {\n",
              "        vertical-align: top;\n",
              "    }\n",
              "\n",
              "    .dataframe thead th {\n",
              "        text-align: right;\n",
              "    }\n",
              "</style>\n",
              "<table border=\"1\" class=\"dataframe\">\n",
              "  <thead>\n",
              "    <tr style=\"text-align: right;\">\n",
              "      <th></th>\n",
              "      <th>ID</th>\n",
              "      <th>STATUS</th>\n",
              "      <th>DIR</th>\n",
              "      <th>Fever/MP</th>\n",
              "      <th>ORC</th>\n",
              "      <th>DataSet</th>\n",
              "    </tr>\n",
              "  </thead>\n",
              "  <tbody>\n",
              "    <tr>\n",
              "      <th>0</th>\n",
              "      <td>0gB18cWHioTobGuU3qVE0QV5mBN2</td>\n",
              "      <td>healthy</td>\n",
              "      <td>E:\\Coswara-Data-master\\20200415\\20200415\\0gB18...</td>\n",
              "      <td>0</td>\n",
              "      <td>0</td>\n",
              "      <td>coswara</td>\n",
              "    </tr>\n",
              "    <tr>\n",
              "      <th>0</th>\n",
              "      <td>0KOy96zEUfdMY4rZzwrDT0gMPDa2</td>\n",
              "      <td>healthy</td>\n",
              "      <td>E:\\Coswara-Data-master\\20200415\\20200415\\0KOy9...</td>\n",
              "      <td>0</td>\n",
              "      <td>0</td>\n",
              "      <td>coswara</td>\n",
              "    </tr>\n",
              "    <tr>\n",
              "      <th>0</th>\n",
              "      <td>1j2LqFPOJIQ8nTlovQqNr6bdUMl1</td>\n",
              "      <td>healthy</td>\n",
              "      <td>E:\\Coswara-Data-master\\20200415\\20200415\\1j2Lq...</td>\n",
              "      <td>0</td>\n",
              "      <td>0</td>\n",
              "      <td>coswara</td>\n",
              "    </tr>\n",
              "    <tr>\n",
              "      <th>0</th>\n",
              "      <td>1kj3twlB9PcVyePxzqNGwnkYZZx2</td>\n",
              "      <td>healthy</td>\n",
              "      <td>E:\\Coswara-Data-master\\20200415\\20200415\\1kj3t...</td>\n",
              "      <td>0</td>\n",
              "      <td>0</td>\n",
              "      <td>coswara</td>\n",
              "    </tr>\n",
              "    <tr>\n",
              "      <th>0</th>\n",
              "      <td>1pXSBzMeizcu5IpLAJUaYpmJyhB3</td>\n",
              "      <td>healthy</td>\n",
              "      <td>E:\\Coswara-Data-master\\20200415\\20200415\\1pXSB...</td>\n",
              "      <td>0</td>\n",
              "      <td>0</td>\n",
              "      <td>coswara</td>\n",
              "    </tr>\n",
              "  </tbody>\n",
              "</table>\n",
              "</div>"
            ],
            "text/plain": [
              "                             ID   STATUS  \\\n",
              "0  0gB18cWHioTobGuU3qVE0QV5mBN2  healthy   \n",
              "0  0KOy96zEUfdMY4rZzwrDT0gMPDa2  healthy   \n",
              "0  1j2LqFPOJIQ8nTlovQqNr6bdUMl1  healthy   \n",
              "0  1kj3twlB9PcVyePxzqNGwnkYZZx2  healthy   \n",
              "0  1pXSBzMeizcu5IpLAJUaYpmJyhB3  healthy   \n",
              "\n",
              "                                                 DIR  Fever/MP  ORC  DataSet  \n",
              "0  E:\\Coswara-Data-master\\20200415\\20200415\\0gB18...         0    0  coswara  \n",
              "0  E:\\Coswara-Data-master\\20200415\\20200415\\0KOy9...         0    0  coswara  \n",
              "0  E:\\Coswara-Data-master\\20200415\\20200415\\1j2Lq...         0    0  coswara  \n",
              "0  E:\\Coswara-Data-master\\20200415\\20200415\\1kj3t...         0    0  coswara  \n",
              "0  E:\\Coswara-Data-master\\20200415\\20200415\\1pXSB...         0    0  coswara  "
            ]
          },
          "execution_count": 5,
          "metadata": {},
          "output_type": "execute_result"
        }
      ],
      "source": [
        "names   = ['ID','Fever/MP','ORC','STATUS','DIR','DataSet']\n",
        "join_by = pd.read_csv('E:\\\\Coswara-Data-master\\\\combined_data.csv')\n",
        "\n",
        "import glob\n",
        "df_list = []\n",
        "for path in tqdm(glob.glob('E:\\\\Coswara-Data-master\\\\*\\\\*\\\\*\\\\cough-shallow.wav')):\n",
        "  temp = pd.DataFrame(columns=['id','DIR'])\n",
        "  temp['id'] = [path.split('\\\\')[-2]]\n",
        "  temp['DIR'] = [path]\n",
        "  temp = pd.merge(left=temp,right=join_by,on='id',how='inner')\n",
        "\n",
        "  temp['fomp']= (temp['fever']| temp['mp']).apply(int)\n",
        "  temp['oths']= (temp['cld']|temp['asthma']|temp['cold']|temp['st']|temp['pneumonia']).apply(int)\n",
        "  temp        = temp[['id','covid_status','DIR','fomp','oths']]\n",
        "  df_list.append(temp.rename(columns={'id':'ID','covid_status':'STATUS','DIR':'DIR','fomp':'Fever/MP','oths':'ORC'}))\n",
        "CosData=pd.concat(df_list)\n",
        "CosData['DataSet'] = 'coswara'\n",
        "CosData.head()"
      ]
    },
    {
      "cell_type": "code",
      "execution_count": 6,
      "metadata": {},
      "outputs": [
        {
          "name": "stderr",
          "output_type": "stream",
          "text": [
            "100%|██████████| 2233/2233 [00:15<00:00, 148.19it/s]\n"
          ]
        },
        {
          "data": {
            "text/html": [
              "<div>\n",
              "<style scoped>\n",
              "    .dataframe tbody tr th:only-of-type {\n",
              "        vertical-align: middle;\n",
              "    }\n",
              "\n",
              "    .dataframe tbody tr th {\n",
              "        vertical-align: top;\n",
              "    }\n",
              "\n",
              "    .dataframe thead th {\n",
              "        text-align: right;\n",
              "    }\n",
              "</style>\n",
              "<table border=\"1\" class=\"dataframe\">\n",
              "  <thead>\n",
              "    <tr style=\"text-align: right;\">\n",
              "      <th></th>\n",
              "      <th>ID</th>\n",
              "      <th>STATUS</th>\n",
              "      <th>DIR</th>\n",
              "      <th>Fever/MP</th>\n",
              "      <th>ORC</th>\n",
              "      <th>DataSet</th>\n",
              "    </tr>\n",
              "  </thead>\n",
              "  <tbody>\n",
              "    <tr>\n",
              "      <th>0</th>\n",
              "      <td>0gB18cWHioTobGuU3qVE0QV5mBN2</td>\n",
              "      <td>healthy</td>\n",
              "      <td>E:\\Coswara-Data-master\\20200415\\20200415\\0gB18...</td>\n",
              "      <td>0</td>\n",
              "      <td>0</td>\n",
              "      <td>coswara</td>\n",
              "    </tr>\n",
              "    <tr>\n",
              "      <th>0</th>\n",
              "      <td>0KOy96zEUfdMY4rZzwrDT0gMPDa2</td>\n",
              "      <td>healthy</td>\n",
              "      <td>E:\\Coswara-Data-master\\20200415\\20200415\\0KOy9...</td>\n",
              "      <td>0</td>\n",
              "      <td>0</td>\n",
              "      <td>coswara</td>\n",
              "    </tr>\n",
              "    <tr>\n",
              "      <th>0</th>\n",
              "      <td>1j2LqFPOJIQ8nTlovQqNr6bdUMl1</td>\n",
              "      <td>healthy</td>\n",
              "      <td>E:\\Coswara-Data-master\\20200415\\20200415\\1j2Lq...</td>\n",
              "      <td>0</td>\n",
              "      <td>0</td>\n",
              "      <td>coswara</td>\n",
              "    </tr>\n",
              "    <tr>\n",
              "      <th>0</th>\n",
              "      <td>1kj3twlB9PcVyePxzqNGwnkYZZx2</td>\n",
              "      <td>healthy</td>\n",
              "      <td>E:\\Coswara-Data-master\\20200415\\20200415\\1kj3t...</td>\n",
              "      <td>0</td>\n",
              "      <td>0</td>\n",
              "      <td>coswara</td>\n",
              "    </tr>\n",
              "    <tr>\n",
              "      <th>0</th>\n",
              "      <td>1pXSBzMeizcu5IpLAJUaYpmJyhB3</td>\n",
              "      <td>healthy</td>\n",
              "      <td>E:\\Coswara-Data-master\\20200415\\20200415\\1pXSB...</td>\n",
              "      <td>0</td>\n",
              "      <td>0</td>\n",
              "      <td>coswara</td>\n",
              "    </tr>\n",
              "  </tbody>\n",
              "</table>\n",
              "</div>"
            ],
            "text/plain": [
              "                             ID   STATUS  \\\n",
              "0  0gB18cWHioTobGuU3qVE0QV5mBN2  healthy   \n",
              "0  0KOy96zEUfdMY4rZzwrDT0gMPDa2  healthy   \n",
              "0  1j2LqFPOJIQ8nTlovQqNr6bdUMl1  healthy   \n",
              "0  1kj3twlB9PcVyePxzqNGwnkYZZx2  healthy   \n",
              "0  1pXSBzMeizcu5IpLAJUaYpmJyhB3  healthy   \n",
              "\n",
              "                                                 DIR  Fever/MP  ORC  DataSet  \n",
              "0  E:\\Coswara-Data-master\\20200415\\20200415\\0gB18...         0    0  coswara  \n",
              "0  E:\\Coswara-Data-master\\20200415\\20200415\\0KOy9...         0    0  coswara  \n",
              "0  E:\\Coswara-Data-master\\20200415\\20200415\\1j2Lq...         0    0  coswara  \n",
              "0  E:\\Coswara-Data-master\\20200415\\20200415\\1kj3t...         0    0  coswara  \n",
              "0  E:\\Coswara-Data-master\\20200415\\20200415\\1pXSB...         0    0  coswara  "
            ]
          },
          "execution_count": 6,
          "metadata": {},
          "output_type": "execute_result"
        }
      ],
      "source": [
        "join_by = join_by.loc[join_by['covid_status']!='healthy']\n",
        "for path in tqdm(glob.glob('E:\\\\Coswara-Data-master\\\\*\\\\*\\\\*\\\\cough-heavy.wav')):\n",
        "  temp = pd.DataFrame(columns=['id','DIR'])\n",
        "  temp['id'] = [path.split('\\\\')[-2]]\n",
        "  temp['DIR'] = [path]\n",
        "  temp = pd.merge(left=temp,right=join_by,on='id',how='inner')\n",
        "\n",
        "  temp['fomp']= (temp['fever']| temp['mp']).apply(int)\n",
        "  temp['oths']= (temp['cld']|temp['asthma']|temp['cold']|temp['st']|temp['pneumonia']).apply(int)\n",
        "  temp        = temp[['id','covid_status','DIR','fomp','oths']]\n",
        "  df_list.append(temp.rename(columns={'id':'ID','covid_status':'STATUS','DIR':'DIR','fomp':'Fever/MP','oths':'ORC'}))\n",
        "CosData2=pd.concat(df_list)\n",
        "CosData2['DataSet'] = 'coswara'\n",
        "CosData2.head()"
      ]
    },
    {
      "cell_type": "markdown",
      "metadata": {
        "id": "IWd7TgddcLCi"
      },
      "source": [
        "## Prepare dataset"
      ]
    },
    {
      "cell_type": "code",
      "execution_count": 7,
      "metadata": {
        "colab": {
          "base_uri": "https://localhost:8080/",
          "height": 197
        },
        "id": "vhG5icIXtP9R",
        "outputId": "06712e4b-3198-40c6-9c5e-1ca281191880"
      },
      "outputs": [
        {
          "data": {
            "text/html": [
              "<div>\n",
              "<style scoped>\n",
              "    .dataframe tbody tr th:only-of-type {\n",
              "        vertical-align: middle;\n",
              "    }\n",
              "\n",
              "    .dataframe tbody tr th {\n",
              "        vertical-align: top;\n",
              "    }\n",
              "\n",
              "    .dataframe thead th {\n",
              "        text-align: right;\n",
              "    }\n",
              "</style>\n",
              "<table border=\"1\" class=\"dataframe\">\n",
              "  <thead>\n",
              "    <tr style=\"text-align: right;\">\n",
              "      <th></th>\n",
              "      <th>ID</th>\n",
              "      <th>STATUS</th>\n",
              "      <th>DIR</th>\n",
              "      <th>Fever/MP</th>\n",
              "      <th>ORC</th>\n",
              "      <th>DataSet</th>\n",
              "    </tr>\n",
              "  </thead>\n",
              "  <tbody>\n",
              "    <tr>\n",
              "      <th>0</th>\n",
              "      <td>ZuysSjckdLWhDEc9mARQwWpXfIj2</td>\n",
              "      <td>healthy</td>\n",
              "      <td>E:\\Coswara-Data-master\\20201031\\20201031\\ZuysS...</td>\n",
              "      <td>0</td>\n",
              "      <td>0</td>\n",
              "      <td>coswara</td>\n",
              "    </tr>\n",
              "    <tr>\n",
              "      <th>1</th>\n",
              "      <td>EuEoeANAhadcy5vzBikn3LxlGKh1</td>\n",
              "      <td>positive_mild</td>\n",
              "      <td>E:\\Coswara-Data-master\\20210816\\20210816\\EuEoe...</td>\n",
              "      <td>0</td>\n",
              "      <td>1</td>\n",
              "      <td>coswara</td>\n",
              "    </tr>\n",
              "    <tr>\n",
              "      <th>2</th>\n",
              "      <td>iOx0zPyPiMZjCWXuf3RGu8HKq8k1</td>\n",
              "      <td>positive_mild</td>\n",
              "      <td>E:\\Coswara-Data-master\\20210630\\20210630\\iOx0z...</td>\n",
              "      <td>0</td>\n",
              "      <td>0</td>\n",
              "      <td>coswara</td>\n",
              "    </tr>\n",
              "    <tr>\n",
              "      <th>3</th>\n",
              "      <td>Eg87yvzTcTOSRHlObK3w0ju4Ej82</td>\n",
              "      <td>positive_mild</td>\n",
              "      <td>E:\\Coswara-Data-master\\20210630\\20210630\\Eg87y...</td>\n",
              "      <td>0</td>\n",
              "      <td>0</td>\n",
              "      <td>coswara</td>\n",
              "    </tr>\n",
              "    <tr>\n",
              "      <th>4</th>\n",
              "      <td>2n0fnSeTNiWvPi7aLxRrFsCGU8D2</td>\n",
              "      <td>healthy</td>\n",
              "      <td>E:\\Coswara-Data-master\\20200424\\20200424\\2n0fn...</td>\n",
              "      <td>0</td>\n",
              "      <td>0</td>\n",
              "      <td>coswara</td>\n",
              "    </tr>\n",
              "  </tbody>\n",
              "</table>\n",
              "</div>"
            ],
            "text/plain": [
              "                             ID         STATUS  \\\n",
              "0  ZuysSjckdLWhDEc9mARQwWpXfIj2        healthy   \n",
              "1  EuEoeANAhadcy5vzBikn3LxlGKh1  positive_mild   \n",
              "2  iOx0zPyPiMZjCWXuf3RGu8HKq8k1  positive_mild   \n",
              "3  Eg87yvzTcTOSRHlObK3w0ju4Ej82  positive_mild   \n",
              "4  2n0fnSeTNiWvPi7aLxRrFsCGU8D2        healthy   \n",
              "\n",
              "                                                 DIR  Fever/MP  ORC  DataSet  \n",
              "0  E:\\Coswara-Data-master\\20201031\\20201031\\ZuysS...         0    0  coswara  \n",
              "1  E:\\Coswara-Data-master\\20210816\\20210816\\EuEoe...         0    1  coswara  \n",
              "2  E:\\Coswara-Data-master\\20210630\\20210630\\iOx0z...         0    0  coswara  \n",
              "3  E:\\Coswara-Data-master\\20210630\\20210630\\Eg87y...         0    0  coswara  \n",
              "4  E:\\Coswara-Data-master\\20200424\\20200424\\2n0fn...         0    0  coswara  "
            ]
          },
          "execution_count": 7,
          "metadata": {},
          "output_type": "execute_result"
        }
      ],
      "source": [
        "custpath  = 'E://virufy_code-main/image_mfcc/' #Where mfcc image will be stored\n",
        "\n",
        "TotData   = pd.concat([CosData, CosData2])\n",
        "TotData.head()"
      ]
    },
    {
      "cell_type": "markdown",
      "metadata": {
        "id": "ZzwONWen17O_"
      },
      "source": [
        "## Feature Extraction"
      ]
    },
    {
      "cell_type": "code",
      "execution_count": 8,
      "metadata": {},
      "outputs": [
        {
          "data": {
            "text/plain": [
              "healthy              1246\n",
              "positive_mild         783\n",
              "positive_moderate     354\n",
              "positive_asymp        153\n",
              "Name: STATUS, dtype: int64"
            ]
          },
          "execution_count": 8,
          "metadata": {},
          "output_type": "execute_result"
        }
      ],
      "source": [
        "TotData['STATUS'].value_counts()"
      ]
    },
    {
      "cell_type": "code",
      "execution_count": 10,
      "metadata": {
        "id": "SWItHo7ZtR4i"
      },
      "outputs": [],
      "source": [
        "def feature_extractor(row):\n",
        "  \n",
        "  name     = row[0]\n",
        "  try:\n",
        "    audio,sr = librosa.load(row[-4])\n",
        "    hop_length = np.floor(0.010*sr).astype(int) #10ms\n",
        "    win_length = np.floor(0.020*sr).astype(int) #20ms \n",
        "    if(audio.shape > (0,)):\n",
        "      #For MFCCS \n",
        "      mfccs    = librosa.feature.mfcc(y=audio,sr=sr, n_mfcc=13,hop_length=hop_length,win_length=win_length)\n",
        "      mfccsscaled = np.mean(mfccs.T,axis=0)\n",
        "      \n",
        "      #Mel Spectogram\n",
        "      pylab.axis('off') # no axis\n",
        "      pylab.axes([0., 0., 1., 1.], frameon=False, xticks=[], yticks=[])\n",
        "      s_db     = librosa.power_to_db(mfccs, ref=np.max)\n",
        "      librosa.display.specshow(s_db)\n",
        "\n",
        "      savepath = os.path.join(custpath,name+'.png')\n",
        "      pylab.savefig(savepath, bbox_inches=None, pad_inches=0)\n",
        "      # pylab.show()\n",
        "      pylab.close()\n",
        "  except:\n",
        "    print('File cannot open: ' + row[-4])\n",
        "    return None,None\n",
        "  return mfccsscaled,savepath\n",
        "\n",
        "features = []\n",
        "diagnoses= []\n",
        "imgpaths = []"
      ]
    },
    {
      "cell_type": "code",
      "execution_count": 11,
      "metadata": {},
      "outputs": [
        {
          "name": "stderr",
          "output_type": "stream",
          "text": [
            "A subdirectory or file E:\\\\virufy_code-main\\\\image_mfcc already exists.\n"
          ]
        }
      ],
      "source": [
        "!mkdir E:\\\\virufy_code-main\\\\image_mfcc"
      ]
    },
    {
      "cell_type": "code",
      "execution_count": 12,
      "metadata": {
        "colab": {
          "base_uri": "https://localhost:8080/"
        },
        "id": "B41Td6IM22HJ",
        "outputId": "8366208d-c3a0-4398-bf8d-9978e0360069"
      },
      "outputs": [
        {
          "name": "stderr",
          "output_type": "stream",
          "text": [
            "  1%|          | 23/2536 [00:08<11:50,  3.54it/s] "
          ]
        },
        {
          "name": "stdout",
          "output_type": "stream",
          "text": [
            "File cannot open: E:\\Coswara-Data-master\\20200820\\20200820\\Tfvspm3rapd3ZLyAoMG36VxNQnr2\\cough-shallow.wav\n"
          ]
        },
        {
          "name": "stderr",
          "output_type": "stream",
          "text": [
            "  3%|▎         | 67/2536 [00:27<21:19,  1.93it/s]"
          ]
        },
        {
          "name": "stdout",
          "output_type": "stream",
          "text": [
            "File cannot open: E:\\Coswara-Data-master\\20210816\\20210816\\WcRpZenx0WWQmzOUPTHEEGlyJAg1\\cough-shallow.wav\n"
          ]
        },
        {
          "name": "stderr",
          "output_type": "stream",
          "text": [
            "  9%|▉         | 226/2536 [01:30<13:54,  2.77it/s]"
          ]
        },
        {
          "name": "stdout",
          "output_type": "stream",
          "text": [
            "File cannot open: E:\\Coswara-Data-master\\20200502\\20200502\\VxQekDvwa3N5B2FqB4FlQ5jBjTp2\\cough-shallow.wav\n"
          ]
        },
        {
          "name": "stderr",
          "output_type": "stream",
          "text": [
            " 12%|█▏        | 311/2536 [02:10<18:49,  1.97it/s]"
          ]
        },
        {
          "name": "stdout",
          "output_type": "stream",
          "text": [
            "File cannot open: E:\\Coswara-Data-master\\20200419\\20200419\\XFX3DxpzWlTsqde0wmliVzvRXnf1\\cough-shallow.wav\n"
          ]
        },
        {
          "name": "stderr",
          "output_type": "stream",
          "text": [
            " 14%|█▍        | 353/2536 [02:25<13:08,  2.77it/s]"
          ]
        },
        {
          "name": "stdout",
          "output_type": "stream",
          "text": [
            "File cannot open: E:\\Coswara-Data-master\\20200415\\20200415\\jSb7SyucSmTHhzs3qQoBExRMQZ02\\cough-shallow.wav\n"
          ]
        },
        {
          "name": "stderr",
          "output_type": "stream",
          "text": [
            " 16%|█▋        | 418/2536 [02:56<10:40,  3.31it/s]"
          ]
        },
        {
          "name": "stdout",
          "output_type": "stream",
          "text": [
            "File cannot open: E:\\Coswara-Data-master\\20210930\\20210930\\fxKtohOugAVxds721TRXR8GVmn02\\cough-heavy.wav\n"
          ]
        },
        {
          "name": "stderr",
          "output_type": "stream",
          "text": [
            " 21%|██        | 533/2536 [03:40<09:31,  3.50it/s]"
          ]
        },
        {
          "name": "stdout",
          "output_type": "stream",
          "text": [
            "File cannot open: E:\\Coswara-Data-master\\20200502\\20200502\\FJTHLyF7sGYFJpundI1mZ28HQQ03\\cough-shallow.wav\n"
          ]
        },
        {
          "name": "stderr",
          "output_type": "stream",
          "text": [
            " 29%|██▉       | 733/2536 [05:01<08:04,  3.72it/s]"
          ]
        },
        {
          "name": "stdout",
          "output_type": "stream",
          "text": [
            "File cannot open: E:\\Coswara-Data-master\\20200502\\20200502\\mNcNjQMsv8aZXFGuguWbLdmkOQk2\\cough-shallow.wav\n"
          ]
        },
        {
          "name": "stderr",
          "output_type": "stream",
          "text": [
            " 31%|███       | 787/2536 [05:24<09:25,  3.09it/s]"
          ]
        },
        {
          "name": "stdout",
          "output_type": "stream",
          "text": [
            "File cannot open: E:\\Coswara-Data-master\\20200502\\20200502\\I5gTlFVoKbVFGCKxwV6QXSOdkZN2\\cough-shallow.wav\n"
          ]
        },
        {
          "name": "stderr",
          "output_type": "stream",
          "text": [
            " 33%|███▎      | 840/2536 [05:45<10:47,  2.62it/s]"
          ]
        },
        {
          "name": "stdout",
          "output_type": "stream",
          "text": [
            "File cannot open: E:\\Coswara-Data-master\\20210714\\20210714\\dpA0EeRrtJUeKJjEuf7BL0AeTJZ2\\cough-shallow.wav\n"
          ]
        },
        {
          "name": "stderr",
          "output_type": "stream",
          "text": [
            " 36%|███▌      | 918/2536 [06:21<14:02,  1.92it/s]"
          ]
        },
        {
          "name": "stdout",
          "output_type": "stream",
          "text": [
            "File cannot open: E:\\Coswara-Data-master\\20210714\\20210714\\dpA0EeRrtJUeKJjEuf7BL0AeTJZ2\\cough-shallow.wav\n"
          ]
        },
        {
          "name": "stderr",
          "output_type": "stream",
          "text": [
            " 38%|███▊      | 968/2536 [06:51<15:45,  1.66it/s]"
          ]
        },
        {
          "name": "stdout",
          "output_type": "stream",
          "text": [
            "File cannot open: E:\\Coswara-Data-master\\20200415\\20200415\\jSb7SyucSmTHhzs3qQoBExRMQZ02\\cough-shallow.wav\n"
          ]
        },
        {
          "name": "stderr",
          "output_type": "stream",
          "text": [
            " 44%|████▍     | 1126/2536 [08:12<08:27,  2.78it/s]"
          ]
        },
        {
          "name": "stdout",
          "output_type": "stream",
          "text": [
            "File cannot open: E:\\Coswara-Data-master\\20200419\\20200419\\XFX3DxpzWlTsqde0wmliVzvRXnf1\\cough-shallow.wav\n"
          ]
        },
        {
          "name": "stderr",
          "output_type": "stream",
          "text": [
            " 55%|█████▍    | 1393/2536 [10:23<07:23,  2.58it/s]"
          ]
        },
        {
          "name": "stdout",
          "output_type": "stream",
          "text": [
            "File cannot open: E:\\Coswara-Data-master\\20200502\\20200502\\FJTHLyF7sGYFJpundI1mZ28HQQ03\\cough-shallow.wav\n"
          ]
        },
        {
          "name": "stderr",
          "output_type": "stream",
          "text": [
            " 65%|██████▌   | 1651/2536 [12:03<05:57,  2.47it/s]"
          ]
        },
        {
          "name": "stdout",
          "output_type": "stream",
          "text": [
            "File cannot open: E:\\Coswara-Data-master\\20200502\\20200502\\mNcNjQMsv8aZXFGuguWbLdmkOQk2\\cough-shallow.wav\n"
          ]
        },
        {
          "name": "stderr",
          "output_type": "stream",
          "text": [
            " 65%|██████▌   | 1656/2536 [12:04<03:48,  3.85it/s]"
          ]
        },
        {
          "name": "stdout",
          "output_type": "stream",
          "text": [
            "File cannot open: E:\\Coswara-Data-master\\20200820\\20200820\\Tfvspm3rapd3ZLyAoMG36VxNQnr2\\cough-shallow.wav\n"
          ]
        },
        {
          "name": "stderr",
          "output_type": "stream",
          "text": [
            " 71%|███████   | 1801/2536 [12:57<04:23,  2.79it/s]"
          ]
        },
        {
          "name": "stdout",
          "output_type": "stream",
          "text": [
            "File cannot open: E:\\Coswara-Data-master\\20200502\\20200502\\VxQekDvwa3N5B2FqB4FlQ5jBjTp2\\cough-shallow.wav\n"
          ]
        },
        {
          "name": "stderr",
          "output_type": "stream",
          "text": [
            " 73%|███████▎  | 1855/2536 [13:14<03:26,  3.29it/s]"
          ]
        },
        {
          "name": "stdout",
          "output_type": "stream",
          "text": [
            "File cannot open: E:\\Coswara-Data-master\\20200820\\20200820\\aU8pLZV1OUQJV0GKeeIlgWhYWeA2\\cough-shallow.wav\n"
          ]
        },
        {
          "name": "stderr",
          "output_type": "stream",
          "text": [
            " 84%|████████▍ | 2142/2536 [15:05<02:16,  2.88it/s]"
          ]
        },
        {
          "name": "stdout",
          "output_type": "stream",
          "text": [
            "File cannot open: E:\\Coswara-Data-master\\20200502\\20200502\\I5gTlFVoKbVFGCKxwV6QXSOdkZN2\\cough-shallow.wav\n"
          ]
        },
        {
          "name": "stderr",
          "output_type": "stream",
          "text": [
            " 90%|████████▉ | 2278/2536 [15:53<01:17,  3.32it/s]"
          ]
        },
        {
          "name": "stdout",
          "output_type": "stream",
          "text": [
            "File cannot open: E:\\Coswara-Data-master\\20210816\\20210816\\WcRpZenx0WWQmzOUPTHEEGlyJAg1\\cough-shallow.wav\n"
          ]
        },
        {
          "name": "stderr",
          "output_type": "stream",
          "text": [
            " 98%|█████████▊| 2474/2536 [17:05<00:20,  3.03it/s]"
          ]
        },
        {
          "name": "stdout",
          "output_type": "stream",
          "text": [
            "File cannot open: E:\\Coswara-Data-master\\20200820\\20200820\\aU8pLZV1OUQJV0GKeeIlgWhYWeA2\\cough-shallow.wav\n"
          ]
        },
        {
          "name": "stderr",
          "output_type": "stream",
          "text": [
            "100%|█████████▉| 2531/2536 [17:24<00:01,  3.10it/s]C:\\Users\\Admin\\AppData\\Local\\Programs\\Python\\Python39\\lib\\site-packages\\librosa\\core\\spectrum.py:222: UserWarning: n_fft=2048 is too small for input signal of length=1882\n",
            "  warnings.warn(\n",
            "100%|██████████| 2536/2536 [17:25<00:00,  2.43it/s]\n"
          ]
        }
      ],
      "source": [
        "for row in tqdm(TotData.values):\n",
        "  mfccs,savepath  = feature_extractor(row)\n",
        "  features.append(mfccs)\n",
        "  imgpaths.append(savepath)\n",
        "  diagnoses.append([row[3],row[4]])"
      ]
    },
    {
      "cell_type": "markdown",
      "metadata": {
        "id": "SFLW0eUeJ_wm"
      },
      "source": [
        "---\n",
        "# 2- Data Sampling \n",
        "---"
      ]
    },
    {
      "cell_type": "markdown",
      "metadata": {
        "id": "U4FVk_DXPriE"
      },
      "source": [
        "## Remove Nans\n",
        "\n",
        "\n",
        "\n"
      ]
    },
    {
      "cell_type": "code",
      "execution_count": 13,
      "metadata": {
        "id": "dZoFUQ2-LAsQ"
      },
      "outputs": [
        {
          "name": "stdout",
          "output_type": "stream",
          "text": [
            "2536\n"
          ]
        }
      ],
      "source": [
        "isnone = lambda x: x is not None\n",
        "label  = lambda x: 1 if x == 'positive_mild' or x =='positive_moderate' or x == 'positive_asymp' or x == 'COVID-19' else 0\n",
        "cast_x = list(map(isnone,imgpaths))\n",
        "data_y = list(map(label,TotData['STATUS']))\n",
        "\n",
        "print(len(imgpaths))\n",
        "\n",
        "data_x = [features[i] for i in range(len(features)) if cast_x[i] == True]\n",
        "data_xx= [imgpaths[i] for i in range(len(imgpaths)) if cast_x[i] == True]\n",
        "data_xp= [diagnoses[i]for i in range(len(diagnoses))if cast_x[i] == True]\n",
        "data_y = [data_y[i] for i in range(len(features)) if cast_x[i] == True]"
      ]
    },
    {
      "cell_type": "code",
      "execution_count": 14,
      "metadata": {},
      "outputs": [
        {
          "data": {
            "text/plain": [
              "1287"
            ]
          },
          "execution_count": 14,
          "metadata": {},
          "output_type": "execute_result"
        }
      ],
      "source": [
        "(np.array(data_y) == 1).sum()"
      ]
    },
    {
      "cell_type": "markdown",
      "metadata": {
        "id": "aiUQQC2UQXPc"
      },
      "source": [
        "## Prepare Data Splits\n",
        "  n = NUM_shuf\n",
        "\n",
        "\n",
        "\n"
      ]
    },
    {
      "cell_type": "code",
      "execution_count": null,
      "metadata": {
        "id": "3O6Nuvw7QcX_"
      },
      "outputs": [],
      "source": [
        "# assert len(data_x) == len(data_xx) == len(data_xp), \"Data lengths do not match\"\n",
        "\n",
        "indices = np.arange(len(data_xx))\n",
        "print(indices)\n",
        "NUM_shuf= 5\n",
        "DATA    = {i:{} for i in range(NUM_shuf)}\n",
        "print(DATA)\n",
        "\n",
        "for i in range(NUM_shuf):\n",
        "  np.random.shuffle(indices)\n",
        "\n",
        "  DATA[i]['MFCCS'] = np.array([data_x[i] for i in indices])\n",
        "  DATA[i]['MEL']   = [data_xx[i] for i in indices]\n",
        "  DATA[i]['EXTRA'] = np.array([data_xp[i] for i in indices])\n",
        "  DATA[i]['LABELS']= np.array([data_y[i] for i in indices])\n",
        "\n",
        "print(DATA[0])"
      ]
    },
    {
      "cell_type": "code",
      "execution_count": 16,
      "metadata": {
        "id": "c-dQGmNILDom"
      },
      "outputs": [],
      "source": [
        "# Save extracted features\n",
        "# Note: mel specs not saved\n",
        "import pickle\n",
        "pickle.dump( DATA, open( \"loaded_data.pickle\", \"wb\" ) )"
      ]
    },
    {
      "cell_type": "markdown",
      "metadata": {
        "id": "Wu99vXhGTpaM"
      },
      "source": [
        "## Data Generator\n",
        "\n",
        "\n"
      ]
    },
    {
      "cell_type": "code",
      "execution_count": 17,
      "metadata": {
        "id": "hHyTFld8Toli"
      },
      "outputs": [],
      "source": [
        "class CustomDataset(tf.keras.utils.Sequence):\n",
        "  def __init__(self,imgfiles,labels,batch_size,target_size=(224,224),shuffle=False,scale=255,n_classes=1,n_channels=3):\n",
        "    self.batch_size = batch_size\n",
        "    self.dim        = target_size\n",
        "    self.labels     = labels\n",
        "    self.imgfiles   = imgfiles\n",
        "    self.n_classes  = n_classes\n",
        "    self.shuffle    = shuffle\n",
        "    self.n_channels = n_channels\n",
        "    self.scale      = scale\n",
        "\n",
        "    self.c          = 0\n",
        "    self.on_epoch_end()\n",
        "\n",
        "  def __len__(self):\n",
        "    # returns the number of batches\n",
        "    return int(np.floor(len(self.imgfiles) / self.batch_size))\n",
        "\n",
        "  def __getitem__(self, index):\n",
        "    # returns one batch\n",
        "    indexes = self.indexes[index*self.batch_size:(index+1)*self.batch_size]\n",
        "\n",
        "    # Generate data\n",
        "    X, y = self.__data_generation(indexes)\n",
        "    return X, y\n",
        "\n",
        "  def on_epoch_end(self):\n",
        "    self.indexes = np.arange(len(self.imgfiles))\n",
        "    if self.shuffle == True:\n",
        "      np.random.shuffle(self.indexes)\n",
        "  \n",
        "  def __data_generation(self, list_IDs_temp):\n",
        "    X = np.empty((self.batch_size, *self.dim, self.n_channels))\n",
        "    y = np.empty((self.batch_size), dtype=int)\n",
        "\n",
        "    # Generate data\n",
        "    for i, ID in enumerate(list_IDs_temp):\n",
        "        # Store sample\n",
        "        img   = cv2.imread(self.imgfiles[ID])\n",
        "        img   = cv2.resize(img,self.dim,interpolation = cv2.INTER_CUBIC)\n",
        "        X[i,] = img / self.scale\n",
        "\n",
        "        # Store class\n",
        "        y[i] = self.labels[ID]\n",
        "\n",
        "        self.c +=1\n",
        "    return X, y #keras.utils.to_categorical(y, num_classes=self.n_classes)\n",
        "\n",
        "\n",
        "class CustomPipeline(tf.keras.utils.Sequence):\n",
        "  def __init__(self,data_x,data_y,batch_size=64,shuffle=False,n_classes=1):\n",
        "    self.features   = data_x\n",
        "    self.labels     = data_y\n",
        "    self.batch_size = 64\n",
        "    self.shuffle    = shuffle\n",
        "    self.n_features = self.features.shape[1]\n",
        "    self.n_classes  = 1\n",
        "    self.on_epoch_end()\n",
        "\n",
        "  def __len__(self):\n",
        "    return int(np.floor(len(self.features) / self.batch_size))\n",
        "\n",
        "  def __getitem__(self,index):\n",
        "    indexes = self.indexes[index*self.batch_size:(index+1)*self.batch_size]\n",
        "    X, y = self.__data_generation(indexes)\n",
        "    return X, y\n",
        "\n",
        "  def on_epoch_end(self):\n",
        "    self.indexes = np.arange(len(self.features))\n",
        "    if self.shuffle == True:\n",
        "      np.random.shuffle(self.indexes)\n",
        "\n",
        "  def __data_generation(self,indexes):\n",
        "    X = np.empty((self.batch_size, self.n_features))\n",
        "    y = np.empty((self.batch_size), dtype=int)\n",
        "\n",
        "    for i, ID in enumerate(indexes):\n",
        "      X[i,] = self.features[ID]\n",
        "      y[i,] = self.labels[ID]\n",
        "    return X, y\n",
        "\n",
        "class MultipleInputGenerator(tf.keras.utils.Sequence):\n",
        "  \"\"\"Wrapper of two generatos for the combined input model\"\"\"\n",
        "\n",
        "  def __init__(self, X1, X2, Y, batch_size,target_size=(64,64)):\n",
        "      self.genX1 = CustomPipeline(X1, Y, batch_size=batch_size,shuffle=False)\n",
        "      self.genX2 = CustomDataset (X2, Y, batch_size=batch_size,shuffle=False,target_size=target_size)\n",
        "\n",
        "  def __len__(self):\n",
        "      return self.genX1.__len__()\n",
        "\n",
        "  def __getitem__(self, index):\n",
        "      X1_batch, Y_batch = self.genX1.__getitem__(index)\n",
        "      X2_batch, Y_batch = self.genX2.__getitem__(index)\n",
        "      X_batch = [X1_batch, X2_batch]\n",
        "      return X_batch, Y_batch\n",
        "\n",
        "class TripleInputGenerator(tf.keras.utils.Sequence):\n",
        "  \"\"\"Wrapper of two generatos for the combined input model\"\"\"\n",
        "\n",
        "  def __init__(self, X1, X2, X3, Y, batch_size,target_size=(64,64)):\n",
        "      self.genX1 = CustomPipeline(X1, Y, batch_size=batch_size,shuffle=False)\n",
        "      self.genX2 = CustomDataset (X2, Y, batch_size=batch_size,shuffle=False,target_size=target_size)\n",
        "      self.genX3 = CustomPipeline(X3, Y, batch_size=batch_size,shuffle=False)\n",
        "  def __len__(self):\n",
        "      return self.genX1.__len__()\n",
        "\n",
        "  def __getitem__(self, index):\n",
        "      X1_batch, Y_batch = self.genX1.__getitem__(index)\n",
        "      X2_batch, Y_batch = self.genX2.__getitem__(index)\n",
        "      X3_batch, Y_batch = self.genX3.__getitem__(index)\n",
        "\n",
        "      X_batch = [X1_batch, X2_batch, X3_batch]\n",
        "      return X_batch, Y_batch"
      ]
    },
    {
      "cell_type": "markdown",
      "metadata": {
        "id": "fM6PyqEbJ4UL"
      },
      "source": [
        "---\n",
        "# 3- Training and Evaluation\n",
        "---"
      ]
    },
    {
      "cell_type": "code",
      "execution_count": 18,
      "metadata": {
        "id": "6KJaZZlziX7D"
      },
      "outputs": [],
      "source": [
        "from sklearn.metrics import roc_auc_score, accuracy_score, log_loss\n",
        "from keras.callbacks import Callback\n",
        "class Evaluation(keras.callbacks.Callback):\n",
        "  \n",
        "  def __init__(self, val_data_gen, val_labels, test_data_gen, test_labels):\n",
        "    super(Callback, self).__init__()\n",
        "    self.test_data = test_data_gen\n",
        "    self.val_labels = val_labels\n",
        "    self.val_data = val_data_gen\n",
        "    self.test_labels = test_labels\n",
        "\n",
        "  def on_epoch_end(self, epoch, logs=None):\n",
        "    y_preds = self.model.predict(self.val_data)\n",
        "    print(' | val_loss: ', log_loss(self.val_labels[:len(y_preds)], y_preds), ' | val_auc:', roc_auc_score(self.val_labels[:len(y_preds)], y_preds), ' | val_acc: ', accuracy_score(self.val_labels[:len(y_preds)], y_preds>0.5))\n",
        "\n",
        "    y_preds = self.model.predict(self.test_data)\n",
        "    print(' | test_loss: ', log_loss(self.test_labels[:len(y_preds)], y_preds),' | test_auc:', roc_auc_score(self.test_labels[:len(y_preds)], y_preds), ' | test_acc: ', accuracy_score(self.test_labels[:len(y_preds)], y_preds>0.5))\n"
      ]
    },
    {
      "cell_type": "code",
      "execution_count": 19,
      "metadata": {},
      "outputs": [],
      "source": [
        "from tensorflow.keras.layers import Conv2D, BatchNormalization,  MaxPooling2D, ReLU, Add, Input, GlobalAveragePooling2D, Dropout\n",
        "from tensorflow.keras import Model, layers\n",
        "\n",
        "class ResBlock(Model):\n",
        "    def __init__(self, channels, stride=1):\n",
        "        super(ResBlock, self).__init__(name='ResBlock')\n",
        "        self.flag = (stride != 1)\n",
        "        self.conv1 = Conv2D(channels, 3, stride, padding='same')\n",
        "        self.bn1 = BatchNormalization()\n",
        "        self.conv2 = Conv2D(channels, 3, padding='same')\n",
        "        self.bn2 = BatchNormalization()\n",
        "        self.relu = ReLU()\n",
        "        if self.flag:\n",
        "            self.bn3 = BatchNormalization()\n",
        "            self.conv3 = Conv2D(channels, 1, stride)\n",
        "\n",
        "    def call(self, x):\n",
        "        x1 = self.conv1(x)\n",
        "        x1 = self.bn1(x1)\n",
        "        x1 = self.relu(x1)\n",
        "        x1 = self.conv2(x1)\n",
        "        x1 = self.bn2(x1)\n",
        "        if self.flag:\n",
        "            x = self.conv3(x)\n",
        "            x = self.bn3(x)\n",
        "        x1 = layers.add([x, x1])\n",
        "        x1 = self.relu(x1)\n",
        "        return x1\n",
        "\n",
        "\n",
        "class ResNet34(Model):\n",
        "    def __init__(self):\n",
        "        super(ResNet34, self).__init__(name='ResNet34')\n",
        "        self.conv1 = Conv2D(64, 7, 2, padding='same')\n",
        "        self.bn = BatchNormalization()\n",
        "        self.relu = ReLU()\n",
        "        self.mp1 = MaxPooling2D(3, 2)\n",
        "\n",
        "        self.conv2_1 = ResBlock(64)\n",
        "        self.conv2_2 = ResBlock(64)\n",
        "        self.conv2_3 = ResBlock(64)\n",
        "\n",
        "        self.conv3_1 = ResBlock(128, 2)\n",
        "        self.conv3_2 = ResBlock(128)\n",
        "        self.conv3_3 = ResBlock(128)\n",
        "        self.conv3_4 = ResBlock(128)\n",
        "\n",
        "        self.conv4_1 = ResBlock(256, 2)\n",
        "        self.conv4_2 = ResBlock(256)\n",
        "        self.conv4_3 = ResBlock(256)\n",
        "        self.conv4_4 = ResBlock(256)\n",
        "        self.conv4_5 = ResBlock(256)\n",
        "        self.conv4_6 = ResBlock(256)\n",
        "\n",
        "        self.conv5_1 = ResBlock(512, 2)\n",
        "        self.conv5_2 = ResBlock(512)\n",
        "        self.conv5_3 = ResBlock(512)\n",
        "\n",
        "        self.pool = GlobalAveragePooling2D()\n",
        "        self.fc1 = Dense(512, activation='relu')\n",
        "        self.dp1 = Dropout(0.5)\n",
        "        self.fc2 = Dense(512, activation='relu')\n",
        "        self.dp2 = Dropout(0.5)\n",
        "        self.fc3 = Dense(64)\n",
        "\n",
        "    def call(self, x):\n",
        "        x = self.conv1(x)\n",
        "        x = self.bn(x)\n",
        "        x = self.relu(x)\n",
        "        x = self.mp1(x)\n",
        "\n",
        "        x = self.conv2_1(x)\n",
        "        x = self.conv2_2(x)\n",
        "        x = self.conv2_3(x)\n",
        "\n",
        "        x = self.conv3_1(x)\n",
        "        x = self.conv3_2(x)\n",
        "        x = self.conv3_3(x)\n",
        "        x = self.conv3_4(x)\n",
        "\n",
        "        x = self.conv4_1(x)\n",
        "        x = self.conv4_2(x)\n",
        "        x = self.conv4_3(x)\n",
        "        x = self.conv4_4(x)\n",
        "        x = self.conv4_5(x)\n",
        "        x = self.conv4_6(x)\n",
        "\n",
        "        x = self.conv5_1(x)\n",
        "        x = self.conv5_2(x)\n",
        "        x = self.conv5_3(x)\n",
        "\n",
        "        x = self.pool(x)\n",
        "        x = self.fc1(x)\n",
        "        x = self.dp1(x)\n",
        "        x = self.fc2(x)\n",
        "        x = self.dp2(x)\n",
        "        x = self.fc3(x)\n",
        "        return x\n",
        "\n",
        "def respirenet(inputs, num_classes=3, resnet_body='34'):\n",
        "    backbone = ResNet34(inputs)  \n",
        "    x = Reshape(target_shape=(4,4,4))(backbone)\n",
        "    x = GlobalAveragePooling2D()(x)\n",
        "    x = Dropout(0.5)(x)\n",
        "    x = Dense(units=64)(x)\n",
        "    x = ReLU()(x)\n",
        "    x = Dropout(0.5)(x)\n",
        "    x = Dense(units=64)(x)\n",
        "    x = ReLU()(x)\n",
        "    x = Dropout(0.5)(x)\n",
        "\n",
        "    return x"
      ]
    },
    {
      "cell_type": "code",
      "execution_count": 144,
      "metadata": {},
      "outputs": [],
      "source": [
        "from tensorflow.keras.layers import GlobalAveragePooling2D, BatchNormalization, Add, Dropout, Layer, GlobalMaxPooling2D, Reshape, Input, Bidirectional, LSTM, Reshape, MaxPooling1D, add\n",
        "import tensorflow_hub as hub\n",
        "URL=\"https://tfhub.dev/google/bit/m-r50x1/ilsvrc2012_classification/1\"\n",
        "\n",
        "def build_ensemble_model():\n",
        "  '''Function to build ensemble model'''\n",
        "  # First Model\n",
        "  inp1   = Input(shape=13)\n",
        "  inp_rs = Reshape(target_shape=(13,1))(inp1)\n",
        "  lay1   = Conv1D(32, 2, activation=\"relu\")(inp_rs)\n",
        "  lay2   = BatchNormalization()(lay1)\n",
        "  # lay2   = MaxPooling1D(3)(lay2)\n",
        "  lay2   = Conv1D(64, 2, activation=\"relu\")(lay2)\n",
        "  lay2   = BatchNormalization(axis=1)(lay2)\n",
        "  lay2   = BatchNormalization(axis=1)(lay2)\n",
        "  # lay2   = MaxPooling1D(3)(lay2)\n",
        "  lay3   = Bidirectional(LSTM(8, return_sequences=True))(lay2)\n",
        "  lay31   = Bidirectional(LSTM(8, return_sequences=False))(lay3)\n",
        "  lay32   = add([lay3, lay31])\n",
        "  lay4   = Dense(64, activation=\"relu\")(lay32)\n",
        "  lay4   = Dropout(0.6)(lay4)\n",
        "  lay5   = Flatten()(lay4)\n",
        "\n",
        "  # Second Model\n",
        "  inp2   = Input(shape=(224,224,3))\n",
        "  resnet_50 = hub.KerasLayer(URL)(inp2)\n",
        "  resnet_50.trainable = False\n",
        "  first_layer = Reshape(target_shape=(10, 10, 10))(resnet_50)\n",
        "  x = GlobalAveragePooling2D()(first_layer)\n",
        "  x11 = BatchNormalization(axis=1)(x)\n",
        "  x12 = Dropout(0.3)(x11)\n",
        "  x2 = GlobalMaxPooling2D()(first_layer)\n",
        "  x21 = BatchNormalization(axis=1)(x2)\n",
        "  x22 = Dropout(0.3)(x21)\n",
        "  x3 = Concatenate(axis=-1)([x12,x22])\n",
        "  x3 = BatchNormalization(axis=1)(x3)\n",
        "  x3 = Dropout(0.3)(x3)\n",
        "\n",
        "  # Third model\n",
        "  inp3   = Input(shape=2)\n",
        "  lay31  = Dense(units=16,activation='relu')(inp3)\n",
        "  lay32  = Dropout(0.3)(lay31)\n",
        "  lay33  = Dense(units=64,activation='relu')(lay32)\n",
        "  lay43  = Dropout(0.2)(lay33)\n",
        "\n",
        "  # merge input models\n",
        "  merge = concatenate([x3, lay5, lay43])\n",
        "\n",
        "  # interpretation model\n",
        "  hidden1 = Dense(64, activation='relu')(merge)\n",
        "  hidden1 = Dropout(0.5)(hidden1)\n",
        "  hidden2 = Dense(64, activation='relu')(hidden1)\n",
        "  hidden2 = Dropout(0.5)(hidden2)\n",
        "  output  = Dense(1, activation='sigmoid')(hidden2)\n",
        "  MERGM   = Model(inputs=[inp1, inp2,inp3], outputs=output)\n",
        "\n",
        "  return MERGM"
      ]
    },
    {
      "cell_type": "code",
      "execution_count": 145,
      "metadata": {},
      "outputs": [
        {
          "data": {
            "text/plain": [
              "'/device:GPU:0'"
            ]
          },
          "execution_count": 145,
          "metadata": {},
          "output_type": "execute_result"
        }
      ],
      "source": [
        "import tensorflow as tf\n",
        "tf.test.gpu_device_name()"
      ]
    },
    {
      "cell_type": "code",
      "execution_count": 146,
      "metadata": {
        "colab": {
          "base_uri": "https://localhost:8080/"
        },
        "id": "Ec4x7Y5fIve5",
        "outputId": "68ba1e27-2d5e-42a6-b14f-8c946733d1c8"
      },
      "outputs": [
        {
          "name": "stderr",
          "output_type": "stream",
          "text": [
            "The directory is not empty.\n"
          ]
        },
        {
          "name": "stdout",
          "output_type": "stream",
          "text": [
            "Model: \"model\"\n",
            "__________________________________________________________________________________________________\n",
            " Layer (type)                   Output Shape         Param #     Connected to                     \n",
            "==================================================================================================\n",
            " input_1 (InputLayer)           [(None, 13)]         0           []                               \n",
            "                                                                                                  \n",
            " reshape (Reshape)              (None, 13, 1)        0           ['input_1[0][0]']                \n",
            "                                                                                                  \n",
            " conv1d (Conv1D)                (None, 12, 32)       96          ['reshape[0][0]']                \n",
            "                                                                                                  \n",
            " batch_normalization (BatchNorm  (None, 12, 32)      128         ['conv1d[0][0]']                 \n",
            " alization)                                                                                       \n",
            "                                                                                                  \n",
            " input_2 (InputLayer)           [(None, 224, 224, 3  0           []                               \n",
            "                                )]                                                                \n",
            "                                                                                                  \n",
            " conv1d_1 (Conv1D)              (None, 11, 64)       4160        ['batch_normalization[0][0]']    \n",
            "                                                                                                  \n",
            " keras_layer (KerasLayer)       (None, 1000)         25549352    ['input_2[0][0]']                \n",
            "                                                                                                  \n",
            " batch_normalization_1 (BatchNo  (None, 11, 64)      44          ['conv1d_1[0][0]']               \n",
            " rmalization)                                                                                     \n",
            "                                                                                                  \n",
            " reshape_1 (Reshape)            (None, 10, 10, 10)   0           ['keras_layer[0][0]']            \n",
            "                                                                                                  \n",
            " batch_normalization_2 (BatchNo  (None, 11, 64)      44          ['batch_normalization_1[0][0]']  \n",
            " rmalization)                                                                                     \n",
            "                                                                                                  \n",
            " global_average_pooling2d (Glob  (None, 10)          0           ['reshape_1[0][0]']              \n",
            " alAveragePooling2D)                                                                              \n",
            "                                                                                                  \n",
            " global_max_pooling2d (GlobalMa  (None, 10)          0           ['reshape_1[0][0]']              \n",
            " xPooling2D)                                                                                      \n",
            "                                                                                                  \n",
            " bidirectional (Bidirectional)  (None, 11, 16)       4672        ['batch_normalization_2[0][0]']  \n",
            "                                                                                                  \n",
            " batch_normalization_3 (BatchNo  (None, 10)          40          ['global_average_pooling2d[0][0]'\n",
            " rmalization)                                                    ]                                \n",
            "                                                                                                  \n",
            " batch_normalization_4 (BatchNo  (None, 10)          40          ['global_max_pooling2d[0][0]']   \n",
            " rmalization)                                                                                     \n",
            "                                                                                                  \n",
            " bidirectional_1 (Bidirectional  (None, 16)          1600        ['bidirectional[0][0]']          \n",
            " )                                                                                                \n",
            "                                                                                                  \n",
            " input_3 (InputLayer)           [(None, 2)]          0           []                               \n",
            "                                                                                                  \n",
            " dropout_1 (Dropout)            (None, 10)           0           ['batch_normalization_3[0][0]']  \n",
            "                                                                                                  \n",
            " dropout_2 (Dropout)            (None, 10)           0           ['batch_normalization_4[0][0]']  \n",
            "                                                                                                  \n",
            " add (Add)                      (None, 11, 16)       0           ['bidirectional[0][0]',          \n",
            "                                                                  'bidirectional_1[0][0]']        \n",
            "                                                                                                  \n",
            " dense_1 (Dense)                (None, 16)           48          ['input_3[0][0]']                \n",
            "                                                                                                  \n",
            " concatenate (Concatenate)      (None, 20)           0           ['dropout_1[0][0]',              \n",
            "                                                                  'dropout_2[0][0]']              \n",
            "                                                                                                  \n",
            " dense (Dense)                  (None, 11, 64)       1088        ['add[0][0]']                    \n",
            "                                                                                                  \n",
            " dropout_4 (Dropout)            (None, 16)           0           ['dense_1[0][0]']                \n",
            "                                                                                                  \n",
            " batch_normalization_5 (BatchNo  (None, 20)          80          ['concatenate[0][0]']            \n",
            " rmalization)                                                                                     \n",
            "                                                                                                  \n",
            " dropout (Dropout)              (None, 11, 64)       0           ['dense[0][0]']                  \n",
            "                                                                                                  \n",
            " dense_2 (Dense)                (None, 64)           1088        ['dropout_4[0][0]']              \n",
            "                                                                                                  \n",
            " dropout_3 (Dropout)            (None, 20)           0           ['batch_normalization_5[0][0]']  \n",
            "                                                                                                  \n",
            " flatten (Flatten)              (None, 704)          0           ['dropout[0][0]']                \n",
            "                                                                                                  \n",
            " dropout_5 (Dropout)            (None, 64)           0           ['dense_2[0][0]']                \n",
            "                                                                                                  \n",
            " concatenate_1 (Concatenate)    (None, 788)          0           ['dropout_3[0][0]',              \n",
            "                                                                  'flatten[0][0]',                \n",
            "                                                                  'dropout_5[0][0]']              \n",
            "                                                                                                  \n",
            " dense_3 (Dense)                (None, 64)           50496       ['concatenate_1[0][0]']          \n",
            "                                                                                                  \n",
            " dropout_6 (Dropout)            (None, 64)           0           ['dense_3[0][0]']                \n",
            "                                                                                                  \n",
            " dense_4 (Dense)                (None, 64)           4160        ['dropout_6[0][0]']              \n",
            "                                                                                                  \n",
            " dropout_7 (Dropout)            (None, 64)           0           ['dense_4[0][0]']                \n",
            "                                                                                                  \n",
            " dense_5 (Dense)                (None, 1)            65          ['dropout_7[0][0]']              \n",
            "                                                                                                  \n",
            "==================================================================================================\n",
            "Total params: 25,617,201\n",
            "Trainable params: 67,661\n",
            "Non-trainable params: 25,549,540\n",
            "__________________________________________________________________________________________________\n",
            "Epoch 1/50\n",
            "27/27 [==============================] - ETA: 0s - loss: 0.6804 - auc: 0.5999 - acc: 0.5700 - precision: 0.5772 - get_recall: 0.6257 - get_f1: 0.5915 | val_loss:  0.6461512427777052  | val_auc: 0.8136748768472907  | val_acc:  0.5625\n",
            " | test_loss:  0.6708246225491166  | test_auc: 0.8156128576474745  | test_acc:  0.48125\n"
          ]
        },
        {
          "name": "stderr",
          "output_type": "stream",
          "text": [
            "C:\\Users\\Admin\\AppData\\Local\\Programs\\Python\\Python39\\lib\\site-packages\\keras\\engine\\functional.py:1410: CustomMaskWarning: Custom mask layers require a config and must override get_config. When loading, the custom mask layer must be passed to the custom_objects argument.\n",
            "  layer_config = serialize_layer_fn(layer)\n"
          ]
        },
        {
          "name": "stdout",
          "output_type": "stream",
          "text": [
            "27/27 [==============================] - 70s 2s/step - loss: 0.6804 - auc: 0.5999 - acc: 0.5700 - precision: 0.5772 - get_recall: 0.6257 - get_f1: 0.5915 - val_loss: 0.6462 - val_auc: 0.8140 - val_acc: 0.5625 - val_precision: 0.8571 - val_get_recall: 0.0381 - val_get_f1: 0.0711\n",
            "Epoch 2/50\n",
            "27/27 [==============================] - ETA: 0s - loss: 0.6130 - auc: 0.7257 - acc: 0.6661 - precision: 0.6639 - get_recall: 0.7164 - get_f1: 0.6841 | val_loss:  0.5726878761313856  | val_auc: 0.8714088669950738  | val_acc:  0.778125\n",
            " | test_loss:  0.6020437784958631  | test_auc: 0.8758781741826601  | test_acc:  0.7375\n"
          ]
        },
        {
          "name": "stderr",
          "output_type": "stream",
          "text": [
            "C:\\Users\\Admin\\AppData\\Local\\Programs\\Python\\Python39\\lib\\site-packages\\keras\\engine\\functional.py:1410: CustomMaskWarning: Custom mask layers require a config and must override get_config. When loading, the custom mask layer must be passed to the custom_objects argument.\n",
            "  layer_config = serialize_layer_fn(layer)\n"
          ]
        },
        {
          "name": "stdout",
          "output_type": "stream",
          "text": [
            "27/27 [==============================] - 45s 2s/step - loss: 0.6130 - auc: 0.7257 - acc: 0.6661 - precision: 0.6639 - get_recall: 0.7164 - get_f1: 0.6841 - val_loss: 0.5727 - val_auc: 0.8719 - val_acc: 0.7781 - val_precision: 0.9625 - val_get_recall: 0.5277 - val_get_f1: 0.6798\n",
            "Epoch 3/50\n",
            "27/27 [==============================] - ETA: 0s - loss: 0.5131 - auc: 0.8290 - acc: 0.7361 - precision: 0.7380 - get_recall: 0.7604 - get_f1: 0.7446 | val_loss:  0.4552640236215666  | val_auc: 0.8833497536945814  | val_acc:  0.81875\n",
            " | test_loss:  0.46542931399308146  | test_auc: 0.8873974645786726  | test_acc:  0.815625\n"
          ]
        },
        {
          "name": "stderr",
          "output_type": "stream",
          "text": [
            "C:\\Users\\Admin\\AppData\\Local\\Programs\\Python\\Python39\\lib\\site-packages\\keras\\engine\\functional.py:1410: CustomMaskWarning: Custom mask layers require a config and must override get_config. When loading, the custom mask layer must be passed to the custom_objects argument.\n",
            "  layer_config = serialize_layer_fn(layer)\n"
          ]
        },
        {
          "name": "stdout",
          "output_type": "stream",
          "text": [
            "27/27 [==============================] - 45s 2s/step - loss: 0.5131 - auc: 0.8290 - acc: 0.7361 - precision: 0.7380 - get_recall: 0.7604 - get_f1: 0.7446 - val_loss: 0.4553 - val_auc: 0.8834 - val_acc: 0.8188 - val_precision: 0.9307 - val_get_recall: 0.6477 - val_get_f1: 0.7612\n",
            "Epoch 4/50\n",
            "27/27 [==============================] - ETA: 0s - loss: 0.4465 - auc: 0.8692 - acc: 0.8032 - precision: 0.8317 - get_recall: 0.7771 - get_f1: 0.8001 | val_loss:  0.41345678397337904  | val_auc: 0.8821674876847291  | val_acc:  0.81875\n",
            " | test_loss:  0.4219062075135298  | test_auc: 0.884512735978649  | test_acc:  0.815625\n"
          ]
        },
        {
          "name": "stderr",
          "output_type": "stream",
          "text": [
            "C:\\Users\\Admin\\AppData\\Local\\Programs\\Python\\Python39\\lib\\site-packages\\keras\\engine\\functional.py:1410: CustomMaskWarning: Custom mask layers require a config and must override get_config. When loading, the custom mask layer must be passed to the custom_objects argument.\n",
            "  layer_config = serialize_layer_fn(layer)\n"
          ]
        },
        {
          "name": "stdout",
          "output_type": "stream",
          "text": [
            "27/27 [==============================] - 45s 2s/step - loss: 0.4465 - auc: 0.8692 - acc: 0.8032 - precision: 0.8317 - get_recall: 0.7771 - get_f1: 0.8001 - val_loss: 0.4135 - val_auc: 0.8829 - val_acc: 0.8188 - val_precision: 0.9307 - val_get_recall: 0.6477 - val_get_f1: 0.7612\n",
            "Epoch 5/50\n",
            "27/27 [==============================] - ETA: 0s - loss: 0.4342 - auc: 0.8722 - acc: 0.8061 - precision: 0.8689 - get_recall: 0.7411 - get_f1: 0.7969 | val_loss:  0.41384759204811417  | val_auc: 0.8996256157635468  | val_acc:  0.81875\n",
            " | test_loss:  0.40056676245003475  | test_auc: 0.8996428431257114  | test_acc:  0.81875\n"
          ]
        },
        {
          "name": "stderr",
          "output_type": "stream",
          "text": [
            "C:\\Users\\Admin\\AppData\\Local\\Programs\\Python\\Python39\\lib\\site-packages\\keras\\engine\\functional.py:1410: CustomMaskWarning: Custom mask layers require a config and must override get_config. When loading, the custom mask layer must be passed to the custom_objects argument.\n",
            "  layer_config = serialize_layer_fn(layer)\n"
          ]
        },
        {
          "name": "stdout",
          "output_type": "stream",
          "text": [
            "27/27 [==============================] - 45s 2s/step - loss: 0.4342 - auc: 0.8722 - acc: 0.8061 - precision: 0.8689 - get_recall: 0.7411 - get_f1: 0.7969 - val_loss: 0.4138 - val_auc: 0.8989 - val_acc: 0.8188 - val_precision: 0.9307 - val_get_recall: 0.6477 - val_get_f1: 0.7612\n",
            "Epoch 6/50\n",
            "27/27 [==============================] - ETA: 0s - loss: 0.4199 - auc: 0.8776 - acc: 0.8015 - precision: 0.8617 - get_recall: 0.7371 - get_f1: 0.7902 | val_loss:  0.4072906103829155  | val_auc: 0.9030147783251232  | val_acc:  0.81875\n",
            " | test_loss:  0.3983466458914336  | test_auc: 0.9015856195298089  | test_acc:  0.815625\n"
          ]
        },
        {
          "name": "stderr",
          "output_type": "stream",
          "text": [
            "C:\\Users\\Admin\\AppData\\Local\\Programs\\Python\\Python39\\lib\\site-packages\\keras\\engine\\functional.py:1410: CustomMaskWarning: Custom mask layers require a config and must override get_config. When loading, the custom mask layer must be passed to the custom_objects argument.\n",
            "  layer_config = serialize_layer_fn(layer)\n"
          ]
        },
        {
          "name": "stdout",
          "output_type": "stream",
          "text": [
            "27/27 [==============================] - 45s 2s/step - loss: 0.4199 - auc: 0.8776 - acc: 0.8015 - precision: 0.8617 - get_recall: 0.7371 - get_f1: 0.7902 - val_loss: 0.4073 - val_auc: 0.9030 - val_acc: 0.8188 - val_precision: 0.9307 - val_get_recall: 0.6477 - val_get_f1: 0.7612\n",
            "Epoch 7/50\n",
            "27/27 [==============================] - ETA: 0s - loss: 0.4151 - auc: 0.8860 - acc: 0.8154 - precision: 0.8795 - get_recall: 0.7467 - get_f1: 0.8040 | val_loss:  0.40646690202556784  | val_auc: 0.903487684729064  | val_acc:  0.828125\n",
            " | test_loss:  0.39223541079336427  | test_auc: 0.9045488441461597  | test_acc:  0.821875\n"
          ]
        },
        {
          "name": "stderr",
          "output_type": "stream",
          "text": [
            "C:\\Users\\Admin\\AppData\\Local\\Programs\\Python\\Python39\\lib\\site-packages\\keras\\engine\\functional.py:1410: CustomMaskWarning: Custom mask layers require a config and must override get_config. When loading, the custom mask layer must be passed to the custom_objects argument.\n",
            "  layer_config = serialize_layer_fn(layer)\n"
          ]
        },
        {
          "name": "stdout",
          "output_type": "stream",
          "text": [
            "27/27 [==============================] - 45s 2s/step - loss: 0.4151 - auc: 0.8860 - acc: 0.8154 - precision: 0.8795 - get_recall: 0.7467 - get_f1: 0.8040 - val_loss: 0.4065 - val_auc: 0.9041 - val_acc: 0.8281 - val_precision: 0.9327 - val_get_recall: 0.6657 - val_get_f1: 0.7744\n",
            "Epoch 8/50\n",
            "27/27 [==============================] - ETA: 0s - loss: 0.4103 - auc: 0.8816 - acc: 0.8142 - precision: 0.8781 - get_recall: 0.7449 - get_f1: 0.8039 | val_loss:  0.4144382668040635  | val_auc: 0.905103448275862  | val_acc:  0.83125\n",
            " | test_loss:  0.3990417309709301  | test_auc: 0.9033714039012519  | test_acc:  0.821875\n"
          ]
        },
        {
          "name": "stderr",
          "output_type": "stream",
          "text": [
            "C:\\Users\\Admin\\AppData\\Local\\Programs\\Python\\Python39\\lib\\site-packages\\keras\\engine\\functional.py:1410: CustomMaskWarning: Custom mask layers require a config and must override get_config. When loading, the custom mask layer must be passed to the custom_objects argument.\n",
            "  layer_config = serialize_layer_fn(layer)\n"
          ]
        },
        {
          "name": "stdout",
          "output_type": "stream",
          "text": [
            "27/27 [==============================] - 45s 2s/step - loss: 0.4103 - auc: 0.8816 - acc: 0.8142 - precision: 0.8781 - get_recall: 0.7449 - get_f1: 0.8039 - val_loss: 0.4144 - val_auc: 0.9052 - val_acc: 0.8313 - val_precision: 0.9333 - val_get_recall: 0.6714 - val_get_f1: 0.7781\n",
            "Epoch 9/50\n",
            "27/27 [==============================] - ETA: 0s - loss: 0.3988 - auc: 0.8908 - acc: 0.8200 - precision: 0.8827 - get_recall: 0.7553 - get_f1: 0.8110 | val_loss:  0.39187343597441215  | val_auc: 0.9097931034482759  | val_acc:  0.825\n",
            " | test_loss:  0.3827150631488621  | test_auc: 0.9060402684563759  | test_acc:  0.815625\n"
          ]
        },
        {
          "name": "stderr",
          "output_type": "stream",
          "text": [
            "C:\\Users\\Admin\\AppData\\Local\\Programs\\Python\\Python39\\lib\\site-packages\\keras\\engine\\functional.py:1410: CustomMaskWarning: Custom mask layers require a config and must override get_config. When loading, the custom mask layer must be passed to the custom_objects argument.\n",
            "  layer_config = serialize_layer_fn(layer)\n"
          ]
        },
        {
          "name": "stdout",
          "output_type": "stream",
          "text": [
            "27/27 [==============================] - 45s 2s/step - loss: 0.3988 - auc: 0.8908 - acc: 0.8200 - precision: 0.8827 - get_recall: 0.7553 - get_f1: 0.8110 - val_loss: 0.3919 - val_auc: 0.9100 - val_acc: 0.8250 - val_precision: 0.9238 - val_get_recall: 0.6647 - val_get_f1: 0.7685\n",
            "Epoch 10/50\n",
            "27/27 [==============================] - ETA: 0s - loss: 0.3862 - auc: 0.8996 - acc: 0.8281 - precision: 0.8951 - get_recall: 0.7577 - get_f1: 0.8188 | val_loss:  0.37741942209104307  | val_auc: 0.9047093596059114  | val_acc:  0.8375\n",
            " | test_loss:  0.3757401686940284  | test_auc: 0.9066289885788296  | test_acc:  0.825\n"
          ]
        },
        {
          "name": "stderr",
          "output_type": "stream",
          "text": [
            "C:\\Users\\Admin\\AppData\\Local\\Programs\\Python\\Python39\\lib\\site-packages\\keras\\engine\\functional.py:1410: CustomMaskWarning: Custom mask layers require a config and must override get_config. When loading, the custom mask layer must be passed to the custom_objects argument.\n",
            "  layer_config = serialize_layer_fn(layer)\n"
          ]
        },
        {
          "name": "stdout",
          "output_type": "stream",
          "text": [
            "27/27 [==============================] - 45s 2s/step - loss: 0.3862 - auc: 0.8996 - acc: 0.8281 - precision: 0.8951 - get_recall: 0.7577 - get_f1: 0.8188 - val_loss: 0.3774 - val_auc: 0.9052 - val_acc: 0.8375 - val_precision: 0.9266 - val_get_recall: 0.6904 - val_get_f1: 0.7881\n",
            "Epoch 11/50\n",
            "27/27 [==============================] - ETA: 0s - loss: 0.3933 - auc: 0.8930 - acc: 0.8223 - precision: 0.8864 - get_recall: 0.7566 - get_f1: 0.8135 | val_loss:  0.3852498136140639  | val_auc: 0.9100295566502464  | val_acc:  0.840625\n",
            " | test_loss:  0.3783797685180616  | test_auc: 0.9074531967502648  | test_acc:  0.8375\n"
          ]
        },
        {
          "name": "stderr",
          "output_type": "stream",
          "text": [
            "C:\\Users\\Admin\\AppData\\Local\\Programs\\Python\\Python39\\lib\\site-packages\\keras\\engine\\functional.py:1410: CustomMaskWarning: Custom mask layers require a config and must override get_config. When loading, the custom mask layer must be passed to the custom_objects argument.\n",
            "  layer_config = serialize_layer_fn(layer)\n"
          ]
        },
        {
          "name": "stdout",
          "output_type": "stream",
          "text": [
            "27/27 [==============================] - 45s 2s/step - loss: 0.3933 - auc: 0.8930 - acc: 0.8223 - precision: 0.8864 - get_recall: 0.7566 - get_f1: 0.8135 - val_loss: 0.3852 - val_auc: 0.9098 - val_acc: 0.8406 - val_precision: 0.9052 - val_get_recall: 0.7209 - val_get_f1: 0.7992\n",
            "Epoch 12/50\n",
            "27/27 [==============================] - ETA: 0s - loss: 0.3881 - auc: 0.8957 - acc: 0.8264 - precision: 0.8978 - get_recall: 0.7517 - get_f1: 0.8158 | val_loss:  0.3823854889775248  | val_auc: 0.907743842364532  | val_acc:  0.84375\n",
            " | test_loss:  0.36983184929540586  | test_auc: 0.9096903332155892  | test_acc:  0.85625\n"
          ]
        },
        {
          "name": "stderr",
          "output_type": "stream",
          "text": [
            "C:\\Users\\Admin\\AppData\\Local\\Programs\\Python\\Python39\\lib\\site-packages\\keras\\engine\\functional.py:1410: CustomMaskWarning: Custom mask layers require a config and must override get_config. When loading, the custom mask layer must be passed to the custom_objects argument.\n",
            "  layer_config = serialize_layer_fn(layer)\n"
          ]
        },
        {
          "name": "stdout",
          "output_type": "stream",
          "text": [
            "27/27 [==============================] - 45s 2s/step - loss: 0.3881 - auc: 0.8957 - acc: 0.8264 - precision: 0.8978 - get_recall: 0.7517 - get_f1: 0.8158 - val_loss: 0.3824 - val_auc: 0.9076 - val_acc: 0.8438 - val_precision: 0.8800 - val_get_recall: 0.7572 - val_get_f1: 0.8078\n",
            "Epoch 13/50\n",
            "27/27 [==============================] - ETA: 0s - loss: 0.3859 - auc: 0.8987 - acc: 0.8252 - precision: 0.8802 - get_recall: 0.7699 - get_f1: 0.8188 | val_loss:  0.37072834241880626  | val_auc: 0.9080985221674877  | val_acc:  0.853125\n",
            " | test_loss:  0.3682970682722953  | test_auc: 0.9096903332155892  | test_acc:  0.834375\n"
          ]
        },
        {
          "name": "stderr",
          "output_type": "stream",
          "text": [
            "C:\\Users\\Admin\\AppData\\Local\\Programs\\Python\\Python39\\lib\\site-packages\\keras\\engine\\functional.py:1410: CustomMaskWarning: Custom mask layers require a config and must override get_config. When loading, the custom mask layer must be passed to the custom_objects argument.\n",
            "  layer_config = serialize_layer_fn(layer)\n"
          ]
        },
        {
          "name": "stdout",
          "output_type": "stream",
          "text": [
            "27/27 [==============================] - 45s 2s/step - loss: 0.3859 - auc: 0.8987 - acc: 0.8252 - precision: 0.8802 - get_recall: 0.7699 - get_f1: 0.8188 - val_loss: 0.3707 - val_auc: 0.9080 - val_acc: 0.8531 - val_precision: 0.9375 - val_get_recall: 0.7209 - val_get_f1: 0.8119\n",
            "Epoch 14/50\n",
            "27/27 [==============================] - ETA: 0s - loss: 0.3796 - auc: 0.9026 - acc: 0.8362 - precision: 0.9022 - get_recall: 0.7702 - get_f1: 0.8282 | val_loss:  0.36871785855691996  | val_auc: 0.910935960591133  | val_acc:  0.840625\n",
            " | test_loss:  0.3732426759472219  | test_auc: 0.911142509517642  | test_acc:  0.8375\n"
          ]
        },
        {
          "name": "stderr",
          "output_type": "stream",
          "text": [
            "C:\\Users\\Admin\\AppData\\Local\\Programs\\Python\\Python39\\lib\\site-packages\\keras\\engine\\functional.py:1410: CustomMaskWarning: Custom mask layers require a config and must override get_config. When loading, the custom mask layer must be passed to the custom_objects argument.\n",
            "  layer_config = serialize_layer_fn(layer)\n"
          ]
        },
        {
          "name": "stdout",
          "output_type": "stream",
          "text": [
            "27/27 [==============================] - 45s 2s/step - loss: 0.3796 - auc: 0.9026 - acc: 0.8362 - precision: 0.9022 - get_recall: 0.7702 - get_f1: 0.8282 - val_loss: 0.3687 - val_auc: 0.9113 - val_acc: 0.8406 - val_precision: 0.9273 - val_get_recall: 0.7009 - val_get_f1: 0.7942\n",
            "Epoch 15/50\n",
            "27/27 [==============================] - ETA: 0s - loss: 0.3737 - auc: 0.9048 - acc: 0.8287 - precision: 0.9093 - get_recall: 0.7481 - get_f1: 0.8163 | val_loss:  0.37926954869544716  | val_auc: 0.9137733990147785  | val_acc:  0.85625\n",
            " | test_loss:  0.3700187851313331  | test_auc: 0.9111817575258057  | test_acc:  0.86875\n"
          ]
        },
        {
          "name": "stderr",
          "output_type": "stream",
          "text": [
            "C:\\Users\\Admin\\AppData\\Local\\Programs\\Python\\Python39\\lib\\site-packages\\keras\\engine\\functional.py:1410: CustomMaskWarning: Custom mask layers require a config and must override get_config. When loading, the custom mask layer must be passed to the custom_objects argument.\n",
            "  layer_config = serialize_layer_fn(layer)\n"
          ]
        },
        {
          "name": "stdout",
          "output_type": "stream",
          "text": [
            "27/27 [==============================] - 45s 2s/step - loss: 0.3737 - auc: 0.9048 - acc: 0.8287 - precision: 0.9093 - get_recall: 0.7481 - get_f1: 0.8163 - val_loss: 0.3793 - val_auc: 0.9132 - val_acc: 0.8562 - val_precision: 0.8722 - val_get_recall: 0.7969 - val_get_f1: 0.8280\n",
            "Epoch 16/50\n",
            "27/27 [==============================] - ETA: 0s - loss: 0.3673 - auc: 0.9094 - acc: 0.8403 - precision: 0.9000 - get_recall: 0.7797 - get_f1: 0.8325 | val_loss:  0.36612774275436094  | val_auc: 0.9153103448275861  | val_acc:  0.85625\n",
            " | test_loss:  0.35959483918336443  | test_auc: 0.9147533262686918  | test_acc:  0.859375\n"
          ]
        },
        {
          "name": "stderr",
          "output_type": "stream",
          "text": [
            "C:\\Users\\Admin\\AppData\\Local\\Programs\\Python\\Python39\\lib\\site-packages\\keras\\engine\\functional.py:1410: CustomMaskWarning: Custom mask layers require a config and must override get_config. When loading, the custom mask layer must be passed to the custom_objects argument.\n",
            "  layer_config = serialize_layer_fn(layer)\n"
          ]
        },
        {
          "name": "stdout",
          "output_type": "stream",
          "text": [
            "27/27 [==============================] - 45s 2s/step - loss: 0.3673 - auc: 0.9094 - acc: 0.8403 - precision: 0.9000 - get_recall: 0.7797 - get_f1: 0.8325 - val_loss: 0.3661 - val_auc: 0.9154 - val_acc: 0.8562 - val_precision: 0.8898 - val_get_recall: 0.7751 - val_get_f1: 0.8231\n",
            "Epoch 17/50\n",
            "27/27 [==============================] - ETA: 0s - loss: 0.3743 - auc: 0.9051 - acc: 0.8258 - precision: 0.8924 - get_recall: 0.7577 - get_f1: 0.8166 | val_loss:  0.3587744569109418  | val_auc: 0.9138522167487685  | val_acc:  0.859375\n",
            " | test_loss:  0.36130110614317346  | test_auc: 0.9134385179952117  | test_acc:  0.85625\n"
          ]
        },
        {
          "name": "stderr",
          "output_type": "stream",
          "text": [
            "C:\\Users\\Admin\\AppData\\Local\\Programs\\Python\\Python39\\lib\\site-packages\\keras\\engine\\functional.py:1410: CustomMaskWarning: Custom mask layers require a config and must override get_config. When loading, the custom mask layer must be passed to the custom_objects argument.\n",
            "  layer_config = serialize_layer_fn(layer)\n"
          ]
        },
        {
          "name": "stdout",
          "output_type": "stream",
          "text": [
            "27/27 [==============================] - 45s 2s/step - loss: 0.3743 - auc: 0.9051 - acc: 0.8258 - precision: 0.8924 - get_recall: 0.7577 - get_f1: 0.8166 - val_loss: 0.3588 - val_auc: 0.9140 - val_acc: 0.8594 - val_precision: 0.9167 - val_get_recall: 0.7534 - val_get_f1: 0.8221\n",
            "Epoch 18/50\n",
            "27/27 [==============================] - ETA: 0s - loss: 0.3759 - auc: 0.9068 - acc: 0.8385 - precision: 0.8965 - get_recall: 0.7816 - get_f1: 0.8324 | val_loss:  0.37164135073926446  | val_auc: 0.9120000000000001  | val_acc:  0.859375\n",
            " | test_loss:  0.3621276335516995  | test_auc: 0.9165979826523803  | test_acc:  0.846875\n"
          ]
        },
        {
          "name": "stderr",
          "output_type": "stream",
          "text": [
            "C:\\Users\\Admin\\AppData\\Local\\Programs\\Python\\Python39\\lib\\site-packages\\keras\\engine\\functional.py:1410: CustomMaskWarning: Custom mask layers require a config and must override get_config. When loading, the custom mask layer must be passed to the custom_objects argument.\n",
            "  layer_config = serialize_layer_fn(layer)\n"
          ]
        },
        {
          "name": "stdout",
          "output_type": "stream",
          "text": [
            "27/27 [==============================] - 45s 2s/step - loss: 0.3759 - auc: 0.9068 - acc: 0.8385 - precision: 0.8965 - get_recall: 0.7816 - get_f1: 0.8324 - val_loss: 0.3716 - val_auc: 0.9119 - val_acc: 0.8594 - val_precision: 0.8906 - val_get_recall: 0.7858 - val_get_f1: 0.8287\n",
            "Epoch 19/50\n",
            "27/27 [==============================] - ETA: 0s - loss: 0.3418 - auc: 0.9231 - acc: 0.8536 - precision: 0.9091 - get_recall: 0.7997 - get_f1: 0.8479 | val_loss:  0.37980480851520043  | val_auc: 0.9153103448275862  | val_acc:  0.846875\n",
            " | test_loss:  0.3564185458224983  | test_auc: 0.9187173750932139  | test_acc:  0.8625\n"
          ]
        },
        {
          "name": "stderr",
          "output_type": "stream",
          "text": [
            "C:\\Users\\Admin\\AppData\\Local\\Programs\\Python\\Python39\\lib\\site-packages\\keras\\engine\\functional.py:1410: CustomMaskWarning: Custom mask layers require a config and must override get_config. When loading, the custom mask layer must be passed to the custom_objects argument.\n",
            "  layer_config = serialize_layer_fn(layer)\n"
          ]
        },
        {
          "name": "stdout",
          "output_type": "stream",
          "text": [
            "27/27 [==============================] - 45s 2s/step - loss: 0.3418 - auc: 0.9231 - acc: 0.8536 - precision: 0.9091 - get_recall: 0.7997 - get_f1: 0.8479 - val_loss: 0.3798 - val_auc: 0.9157 - val_acc: 0.8469 - val_precision: 0.8429 - val_get_recall: 0.8153 - val_get_f1: 0.8212\n",
            "Epoch 20/50\n",
            "27/27 [==============================] - ETA: 0s - loss: 0.3491 - auc: 0.9167 - acc: 0.8443 - precision: 0.8958 - get_recall: 0.7922 - get_f1: 0.8374 | val_loss:  0.3848668962811189  | val_auc: 0.9146798029556651  | val_acc:  0.865625\n",
            " | test_loss:  0.3643879601346498  | test_auc: 0.9225833038973272  | test_acc:  0.875\n"
          ]
        },
        {
          "name": "stderr",
          "output_type": "stream",
          "text": [
            "C:\\Users\\Admin\\AppData\\Local\\Programs\\Python\\Python39\\lib\\site-packages\\keras\\engine\\functional.py:1410: CustomMaskWarning: Custom mask layers require a config and must override get_config. When loading, the custom mask layer must be passed to the custom_objects argument.\n",
            "  layer_config = serialize_layer_fn(layer)\n"
          ]
        },
        {
          "name": "stdout",
          "output_type": "stream",
          "text": [
            "27/27 [==============================] - 45s 2s/step - loss: 0.3491 - auc: 0.9167 - acc: 0.8443 - precision: 0.8958 - get_recall: 0.7922 - get_f1: 0.8374 - val_loss: 0.3849 - val_auc: 0.9145 - val_acc: 0.8656 - val_precision: 0.8643 - val_get_recall: 0.8302 - val_get_f1: 0.8407\n",
            "5/5 [==============================] - 5s 1s/step - loss: 0.3644 - auc: 0.9222 - acc: 0.8750 - precision: 0.8970 - get_recall: 0.8678 - get_f1: 0.8807\n",
            "\n",
            "Results: Loss = 0.3643879294395447 , AUC = 0.9221907258033752, Acc = 0.875, Precision = 0.8969696760177612, recall = 0.8677979707717896, f1_score = 0.8806537389755249 \n"
          ]
        }
      ],
      "source": [
        "#Build CNN Model\n",
        "import matplotlib.pyplot as plt\n",
        "import tensorflow.keras.backend as K\n",
        "\n",
        "def get_recall(y_true, y_pred): #taken from old keras source code\n",
        "    true_positives = K.sum(K.round(K.clip(y_true * y_pred, 0, 1)))\n",
        "    possible_positives = K.sum(K.round(K.clip(y_true, 0, 1)))\n",
        "    predicted_positives = K.sum(K.round(K.clip(y_pred, 0, 1)))\n",
        "    # precision = true_positives / (predicted_positives + K.epsilon())\n",
        "    recall = true_positives / (possible_positives + K.epsilon())\n",
        "    # f1_val = 2*(precision*recall)/(precision+recall+K.epsilon())\n",
        "    return recall\n",
        "\n",
        "def get_f1(y_true, y_pred): #taken from old keras source code\n",
        "    true_positives = K.sum(K.round(K.clip(y_true * y_pred, 0, 1)))\n",
        "    possible_positives = K.sum(K.round(K.clip(y_true, 0, 1)))\n",
        "    predicted_positives = K.sum(K.round(K.clip(y_pred, 0, 1)))\n",
        "    precision = true_positives / (predicted_positives + K.epsilon())\n",
        "    recall = true_positives / (possible_positives + K.epsilon())\n",
        "    f1_val = 2*(precision*recall)/(precision+recall+K.epsilon())\n",
        "    return f1_val\n",
        "\n",
        "# Create directory to save models\n",
        "rt_sv_dir = 'E:\\\\virufy_code-main\\\\ensemble_models'\n",
        "!rmdir {rt_sv_dir}\n",
        "# os.mkdir(rt_sv_dir)\n",
        "\n",
        "K.clear_session()\n",
        "\n",
        "# Run each split\n",
        "for RUN in range(1):\n",
        "  MERGM = build_ensemble_model()\n",
        "\n",
        "  MERGM.compile(\n",
        "      optimizer = 'Adam',\n",
        "      loss = 'binary_crossentropy',\n",
        "      metrics=['AUC', 'acc', tf.keras.metrics.Precision(), get_recall, get_f1])\n",
        "\n",
        "  tfeatures = DATA[RUN]['MFCCS'][:int(0.7*len(data_x))]\n",
        "  textra    = DATA[RUN]['EXTRA'][:int(0.7*len(data_x))]\n",
        "  timgs     = DATA[RUN]['MEL'][:int(0.7*len(data_x))]\n",
        "  labels    = DATA[RUN]['LABELS'][:int(0.7*len(data_y))]\n",
        "\n",
        "  test_features= DATA[RUN]['MFCCS'][ int(0.7*len(data_x)): int(0.85*len(data_x))]\n",
        "  test_extra   = DATA[RUN]['EXTRA'][ int(0.7*len(data_x)): int(0.85*len(data_x))]\n",
        "  test_imgs    = DATA[RUN]['MEL'][ int(0.7*len(data_x)): int(0.85*len(data_x))]\n",
        "  test_labels  = DATA[RUN]['LABELS'][ int(0.7*len(data_x)): int(0.85*len(data_x))]\n",
        "                                        \n",
        "  val_features= DATA[RUN]['MFCCS'][ int(0.85*len(data_x)) :]\n",
        "  val_extra   = DATA[RUN]['EXTRA'][ int(0.85*len(data_x)) :]\n",
        "  val_imgs    = DATA[RUN]['MEL'][ int(0.85*len(data_x)) :]\n",
        "  val_labels  = DATA[RUN]['LABELS'][ int(0.85*len(data_x)) :]\n",
        "\n",
        "  imgs_em      = TripleInputGenerator(tfeatures,timgs,textra,labels,batch_size=64,target_size=(224,224))\n",
        "  TEST          = TripleInputGenerator(test_features,test_imgs,test_extra,test_labels,batch_size=64,target_size=(224,224))\n",
        "  VAL         = TripleInputGenerator(val_features,val_imgs,val_extra,val_labels,batch_size=64,target_size=(224,224))\n",
        "\n",
        "\n",
        "  evaluator = Evaluation(VAL, val_labels, TEST, test_labels)\n",
        "  checkpointer = keras.callbacks.ModelCheckpoint(filepath=os.path.join(os.path.join(rt_sv_dir, str(RUN)),\n",
        "                \"{epoch:03d}--{val_loss:.3f}--{loss:.3f}.hdf5\"), save_best_only=False)\n",
        "  stop = tf.keras.callbacks.EarlyStopping(monitor='val_loss', patience=3)\n",
        "  # os.mkdir(os.path.join(rt_sv_dir, str(RUN)))\n",
        "  MERGM.summary()\n",
        "  history = MERGM.fit(\n",
        "                  imgs_em,\n",
        "                  epochs=50,\n",
        "                  validation_data=VAL, \n",
        "                  verbose=1, \n",
        "                  callbacks=[evaluator, stop, checkpointer])\n",
        "\n",
        "  MERGM_Record1 = MERGM.evaluate(\n",
        "    TEST\n",
        "  )\n",
        "  print()\n",
        "  print('Results: Loss = {} , AUC = {}, Acc = {}, Precision = {}, recall = {}, f1_score = {} '.format(MERGM_Record1[0],MERGM_Record1[1],\n",
        "                                                                          MERGM_Record1[2],MERGM_Record1[3],MERGM_Record1[4],MERGM_Record1[5]))"
      ]
    },
    {
      "cell_type": "code",
      "execution_count": 147,
      "metadata": {},
      "outputs": [
        {
          "data": {
            "text/plain": [
              "Text(0.5, 1.0, 'Training and Validation Loss')"
            ]
          },
          "execution_count": 147,
          "metadata": {},
          "output_type": "execute_result"
        },
        {
          "data": {
            "image/png": "[encoded data removed]",
            "text/plain": [
              "<Figure size 432x288 with 1 Axes>"
            ]
          },
          "metadata": {
            "needs_background": "light"
          },
          "output_type": "display_data"
        }
      ],
      "source": [
        "import matplotlib.pyplot as plt\n",
        "plt.plot(history.history['val_loss'], label=\"validation loss\")\n",
        "plt.plot(history.history['loss'], label=\"Training loss\")\n",
        "plt.legend(loc='upper right')\n",
        "plt.title('Training and Validation Loss')"
      ]
    },
    {
      "cell_type": "code",
      "execution_count": 148,
      "metadata": {},
      "outputs": [
        {
          "data": {
            "text/plain": [
              "Text(0.5, 1.0, 'Training and Validation Accuracy')"
            ]
          },
          "execution_count": 148,
          "metadata": {},
          "output_type": "execute_result"
        },
        {
          "data": {
            "image/png": "[encoded data removed]",
            "text/plain": [
              "<Figure size 432x288 with 1 Axes>"
            ]
          },
          "metadata": {
            "needs_background": "light"
          },
          "output_type": "display_data"
        }
      ],
      "source": [
        "plt.plot(history.history['val_acc'], label=\"validation accuracy\")\n",
        "plt.plot(history.history['acc'], label=\"training accuracy\")\n",
        "plt.legend(loc='lower right')\n",
        "plt.title('Training and Validation Accuracy')"
      ]
    },
    {
      "cell_type": "code",
      "execution_count": 149,
      "metadata": {},
      "outputs": [
        {
          "data": {
            "text/plain": [
              "Text(0.5, 1.0, 'Training and Validation Precision')"
            ]
          },
          "execution_count": 149,
          "metadata": {},
          "output_type": "execute_result"
        },
        {
          "data": {
            "image/png": "[encoded data removed]",
            "text/plain": [
              "<Figure size 432x288 with 1 Axes>"
            ]
          },
          "metadata": {
            "needs_background": "light"
          },
          "output_type": "display_data"
        }
      ],
      "source": [
        "plt.plot(history.history['val_precision'], label=\"validation precision\")\n",
        "plt.plot(history.history['precision'], label=\"training precision\")\n",
        "plt.legend(loc='lower right')\n",
        "plt.title('Training and Validation Precision')"
      ]
    },
    {
      "cell_type": "code",
      "execution_count": 150,
      "metadata": {},
      "outputs": [
        {
          "data": {
            "text/plain": [
              "Text(0.5, 1.0, 'Training and Validation F1 Score')"
            ]
          },
          "execution_count": 150,
          "metadata": {},
          "output_type": "execute_result"
        },
        {
          "data": {
            "image/png": "[encoded data removed]",
            "text/plain": [
              "<Figure size 432x288 with 1 Axes>"
            ]
          },
          "metadata": {
            "needs_background": "light"
          },
          "output_type": "display_data"
        }
      ],
      "source": [
        "plt.plot(history.history['val_get_f1'], label=\"validation f1 score\")\n",
        "plt.plot(history.history['get_f1'], label=\"training f1 score\")\n",
        "plt.legend(loc='lower right')\n",
        "plt.title('Training and Validation F1 Score')"
      ]
    },
    {
      "cell_type": "code",
      "execution_count": 151,
      "metadata": {},
      "outputs": [
        {
          "data": {
            "text/plain": [
              "Text(0.5, 1.0, 'Training and Validation Recall')"
            ]
          },
          "execution_count": 151,
          "metadata": {},
          "output_type": "execute_result"
        },
        {
          "data": {
            "image/png": "[encoded data removed]",
            "text/plain": [
              "<Figure size 432x288 with 1 Axes>"
            ]
          },
          "metadata": {
            "needs_background": "light"
          },
          "output_type": "display_data"
        }
      ],
      "source": [
        "plt.plot(history.history['val_get_recall'], label=\"validation recall\")\n",
        "plt.plot(history.history['get_recall'], label=\"training recall\")\n",
        "plt.legend(loc='lower right')\n",
        "plt.title('Training and Validation Recall')"
      ]
    },
    {
      "cell_type": "code",
      "execution_count": null,
      "metadata": {},
      "outputs": [],
      "source": []
    },
    {
      "cell_type": "code",
      "execution_count": 152,
      "metadata": {},
      "outputs": [
        {
          "name": "stdout",
          "output_type": "stream",
          "text": [
            "[0.3643879294395447, 0.9221907258033752, 0.875, 0.8969696760177612, 0.8677979707717896, 0.8806537389755249]\n",
            "Results: Loss = 0.3643879294395447 , Acc = 0.9221907258033752, recall = 0.875, f1_score = 0.8969696760177612 \n",
            "\n",
            "val auc: 0.9146798029556651\n",
            "test auc 0.9225833038973272\n",
            "\n",
            "[[132  17]\n",
            " [ 23 148]]\n"
          ]
        }
      ],
      "source": [
        "print(MERGM_Record1)\n",
        "print('Results: Loss = {} , Acc = {}, recall = {}, f1_score = {} '.format(MERGM_Record1[0],MERGM_Record1[1],MERGM_Record1[2],MERGM_Record1[3]))\n",
        "\n",
        "print()\n",
        "from sklearn.metrics import roc_auc_score, confusion_matrix\n",
        "\n",
        "y_val  = val_labels\n",
        "y_preds_val = MERGM.predict(VAL)\n",
        "print('val auc:', roc_auc_score(y_val[:len(y_preds_val)], y_preds_val))\n",
        "\n",
        "y_test  = test_labels\n",
        "y_preds_test = MERGM.predict(TEST)\n",
        "print('test auc', roc_auc_score(y_test[:len(y_preds_test)], y_preds_test))\n",
        "print()\n",
        "print(confusion_matrix(y_test[:len(y_preds_test)], y_preds_test>0.5))"
      ]
    },
    {
      "cell_type": "code",
      "execution_count": 157,
      "metadata": {},
      "outputs": [
        {
          "name": "stdout",
          "output_type": "stream",
          "text": [
            "              precision    recall  f1-score   support\n",
            "\n",
            "     class 0     0.8516    0.8859    0.8684       149\n",
            "     class 1     0.8970    0.8655    0.8810       171\n",
            "\n",
            "    accuracy                         0.8750       320\n",
            "   macro avg     0.8743    0.8757    0.8747       320\n",
            "weighted avg     0.8759    0.8750    0.8751       320\n",
            "\n"
          ]
        }
      ],
      "source": [
        "from sklearn.metrics import classification_report\n",
        "\n",
        "target_names = ['class 0', 'class 1']\n",
        "print(classification_report(y_test[:len(y_preds_test)], y_preds_test>0.5, target_names=target_names, digits=4))"
      ]
    },
    {
      "cell_type": "code",
      "execution_count": 153,
      "metadata": {},
      "outputs": [
        {
          "data": {
            "text/plain": [
              "(array([856.,   0.,   0.,   0.,   0.,   0.,   0.,   0.,   0., 904.]),\n",
              " array([0. , 0.1, 0.2, 0.3, 0.4, 0.5, 0.6, 0.7, 0.8, 0.9, 1. ]),\n",
              " <BarContainer object of 10 artists>)"
            ]
          },
          "execution_count": 153,
          "metadata": {},
          "output_type": "execute_result"
        },
        {
          "data": {
            "image/png": "[encoded data removed]",
            "text/plain": [
              "<Figure size 432x288 with 1 Axes>"
            ]
          },
          "metadata": {
            "needs_background": "light"
          },
          "output_type": "display_data"
        }
      ],
      "source": [
        "plt.hist(labels)"
      ]
    }
  ],
  "metadata": {
    "colab": {
      "collapsed_sections": [],
      "name": "DNN_Dec20.ipynb",
      "provenance": []
    },
    "interpreter": {
      "hash": "dcacb0086e9a4f4eabd41c33bf4faac5ea0a3337ed3f5eff0680afa930572c04"
    },
    "kernelspec": {
      "display_name": "Python 3.9.5 64-bit",
      "name": "python3"
    },
    "language_info": {
      "codemirror_mode": {
        "name": "ipython",
        "version": 3
      },
      "file_extension": ".py",
      "mimetype": "text/x-python",
      "name": "python",
      "nbconvert_exporter": "python",
      "pygments_lexer": "ipython3",
      "version": "3.9.9"
    }
  },
  "nbformat": 4,
  "nbformat_minor": 0
}
